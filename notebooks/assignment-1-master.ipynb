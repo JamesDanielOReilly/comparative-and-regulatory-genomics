{
 "cells": [
  {
   "cell_type": "markdown",
   "metadata": {},
   "source": [
    "**Author:** James O'Reilly  \n",
    "**Student Number:** r0773125  \n",
    "**Email:** james.oreilly@student.kuleuven.be  "
   ]
  },
  {
   "cell_type": "markdown",
   "metadata": {},
   "source": [
    "# Introduction and Background\n",
    "I will be performing bulk RNA-seq analysis to investigate the tumor-promoting functions of UHRF1 in retinoblastoma. The original publication is titled _\"UHRF1 downmodulation enhances antitumor effects ofhistone deacetylase inhibitors in retinoblastoma byaugmenting oxidative stress-mediated apoptosis\"_. A link to the pdf is given [here](https://febs.onlinelibrary.wiley.com/doi/epdf/10.1002/1878-0261.12607). \n",
    "\n",
    "Below I will first give the necessary background for this notebook (effectively a summary of the introduction to the linked paper). I will then discuss the nature of the data. Lastly, I will talk about which elements of the RNA-seq analysis I want to focus on.\n",
    "\n",
    "## Background \n",
    "**Short version:** We want to increase sensitivity of retinoblastoma (RB) cells to chemotherapy. Downregulation of UHRF1 in RB cells enhances sensitivity to chemo drugs by impairing DNA repair, resulting in more robust apoptotic cell death. Furthermore, UHRF1 forms a complex with HDAC1 and binds to methylated promoters of tumor suppressor genes such as CDKN2A, suggesting that UHRF1 mediates the tumor suppressor repression in cooperation with HDAC1. HDAC inhibitors are known exert diverse anticancer effects including apoptosis, cell cycle arrest, and differentiation. Therefore, investigating the roles of UHRF1 in RB cells in response to HDAC inhibitors may provide a novel insight into the eligibility of UHRF1 as a potential target whose downmodulation can sensitize the cells to HDAC inhibitors, as is the case with conventional chemotherapeutic drugs.\n",
    "\n",
    "The authors examined the effects of UHRF1 depletion on the sensitivity to HDAC inhibitors in RB cells and the molecular mechanisms underlying the changes in drug sensitivity. To understand the molecular mechanisms underlying the enhanced sensitivity to HDAC inhibitors in the UHRF1-depleted retinoblastoma cells, the authors performed the gene expression profiling in UHRF1-knockdown Y79 cells in comparison with control-knockdown cells by RNA-sequencing to identify differentially expressed genes.\n",
    "\n",
    "**Long version:**\n",
    "Retinoblastoma (RB) is initiated by inactivation of the RB1 tumor suppressor gene in the developing retina. Chemotherapy is used as a standard treatment optionto save the eye and reduce the long-term risks of developing secondary tumors. However, this treatment has limitations such as drug resistance and adverse side-effects due to drug toxicity. To avoid this, other small molecule inhibitors have been searched and tested for RB treatment. One class of such inhibitors is histone deacetylase (HDAC) inhibitors.\n",
    "\n",
    "HDAC inhibitors are known to exert diverse anticancer effects including apoptosis, cell cycle arrest, and differentiation. As RB1 inactivation in retinoblastoma results in deregulated E2F1 activity, and cancer cells with elevated E2F1 activity have been shown to be sensitive to HDAC inhibitor-induced cell death, several studies have investigated the effects of HDAC inhibitors on retinoblastoma cell death. \n",
    "\n",
    "Identiﬁcation of novel genetic pathwaysor molecular targets that may sensitize retinoblastoma cells to currently available chemotherapeutic drugs may provide an alternative strategy to improve the efﬁcacy and applicability of the chemotherapy. The authors previously demonstrated that downmodulation of UHRF1 in retinoblastoma cells enhances the sensitivity to chemotherapeutic drugs by impairing DNA repair, resulting in more robust apoptotic cell death. Another previous study reported that UHRF1 forms a complex with HDAC1 and binds to methylated promoters of tumor suppressor genes such as CDKN2A, suggesting that UHRF1 mediates the tumor suppressor repression in cooperation with HDAC1.\n",
    "\n",
    "Investigating the roles for UHRF1 in RB cells in response to HDAC inhibitors may provide a novel insight into the eligibility of UHRF1 as a potential target whose downmodulation can sensitize the cells to HDAC inhibitors as is the case with conventional chemotherapeutic drugs. Therefore, the authors examined the effects of UHRF1 depletion on the sensitivity to HDAC inhibitors in RB cells and the molecular mech-anisms underlying the changes in drug sensitivity.\n",
    "\n",
    "## Motivation: Why choose this paper?\n",
    "I'm working with scRNA-seq data in my integrated bioinformatics project and in my thesis. Because of this, I wanted to focus instead on bulk RNA-seq analysis here. I'm interested in epigenetics and cancer, so this paper seemed interesting to me. Also, the data is convenient and there are only two conditions, which allows me to just focus on understanding the basics and doing them correctly.\n",
    "\n",
    "## Data\n",
    "Link to the GEO accession [here](https://www.ncbi.nlm.nih.gov/geo/query/acc.cgi?acc=GSE135424). The data consists of gene expression profiling of control-knockdown (YT) and UHRF1-knockdown (YS) Y79 retinoblastoma cell line by RNA-seq. The reads are single-read and there are two independent biological replicates. In total, there are four samples: YT1, YT2, YS1, and YS2.\n",
    "\n",
    "## Focus\n",
    "There are a number of different steps in the analysis which I could focus on. I chose to focus mostly on gene set enrichment analysis and try my best to understand that. \n",
    "\n",
    "## Files\n",
    "This notebook serves as the master notebook. The analysis is split into three separate notebooks:\n",
    " - assignment-1-map.ipynb\n",
    " - assignment-1-DeSeq.ipynb\n",
    " - assignment-1-FA.ipynb"
   ]
  },
  {
   "cell_type": "code",
   "execution_count": null,
   "metadata": {},
   "outputs": [],
   "source": []
  },
  {
   "cell_type": "code",
   "execution_count": null,
   "metadata": {},
   "outputs": [],
   "source": []
  }
 ],
 "metadata": {
  "kernelspec": {
   "display_name": "R",
   "language": "R",
   "name": "ir"
  },
  "language_info": {
   "codemirror_mode": "r",
   "file_extension": ".r",
   "mimetype": "text/x-r-source",
   "name": "R",
   "pygments_lexer": "r",
   "version": "3.6.3"
  }
 },
 "nbformat": 4,
 "nbformat_minor": 2
}
