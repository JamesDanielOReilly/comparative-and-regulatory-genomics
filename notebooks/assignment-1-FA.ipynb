{
 "cells": [
  {
   "cell_type": "markdown",
   "metadata": {},
   "source": [
    "# Functional analysis of gene signatures\n",
    "\n",
    "In this session we will analyze the differentially expressed genes found by DESeq2 on the bulk RNA-seq data, for the p53 case study. Two replicates of non-stimulated (NS) RNA-seq samples were compared with 2 replicates of stimulated (S) RNA-seq samples. \n",
    "\n",
    "The DESeq2 analysis resulted in a deseq.results.tsv file, which we will use here.\n",
    "The Seurat analysis of scRNA-seq data ...\n",
    "The Scanpy analysis of scRNA-seq data ..."
   ]
  },
  {
   "cell_type": "code",
   "execution_count": 11,
   "metadata": {},
   "outputs": [],
   "source": [
    "mkdir -p /mnt/storage/$USER/jupyternotebooks/functional_analysis_gene_signatures/\n",
    "cd /mnt/storage/$USER/jupyternotebooks/functional_analysis_gene_signatures/"
   ]
  },
  {
   "cell_type": "code",
   "execution_count": 20,
   "metadata": {},
   "outputs": [],
   "source": [
    "ln -sf /mnt/storage/r0773125/jupyternotebooks/RNA-seq/deseq.results.tsv ."
   ]
  },
  {
   "cell_type": "code",
   "execution_count": 21,
   "metadata": {},
   "outputs": [
    {
     "name": "stdout",
     "output_type": "stream",
     "text": [
      "Gene\tbaseMean\tlog2FoldChange\tlfcSE\tstat\tpvalue\tpadj\n",
      "RCVRN\t13012.0630398435\t-5.03622231268386\t0.107239964794059\t-46.9621779749305\t0\t0\n",
      "SUSD2\t3750.29753383858\t-3.23452917559081\t0.132304959690488\t-24.4475277658345\t5.34648162690658e-132\t4.04247475810407e-128\n",
      "UHRF1\t2481.16663973242\t3.38820129078875\t0.154275487048341\t21.9620197324484\t6.64776705861637e-107\t3.35091778201322e-103\n",
      "MYO5B\t1840.62993187403\t-2.75934327535151\t0.126076242204659\t-21.8863064690037\t3.50813676020489e-106\t1.32032416816083e-102\n",
      "DBH-AS1\t707.606037844285\t-5.30273538539319\t0.242395978446196\t-21.8763340026709\t4.36557389287407e-106\t1.32032416816083e-102\n",
      "SEPT4\t3776.76355499303\t-2.21119871915032\t0.103701322541852\t-21.3227629595363\t6.98126588949692e-101\t1.75951171301621e-97\n",
      "OLAH\t1715.97990933185\t-2.5512400155512\t0.121965344125656\t-20.9177453959606\t3.69158554557816e-97\t7.97487951717614e-94\n",
      "C2orf71\t7807.96542956033\t-2.11854179247527\t0.108697833742474\t-19.4901933141971\t1.32977788252841e-84\t2.51361264244933e-81\n",
      "NPTX1\t4342.91468586552\t1.85232097824919\t0.0973267533263673\t19.0319815974727\t9.26808362611439e-81\t1.55724400660113e-77\n"
     ]
    }
   ],
   "source": [
    "head deseq.results.tsv"
   ]
  },
  {
   "cell_type": "code",
   "execution_count": 22,
   "metadata": {},
   "outputs": [
    {
     "name": "stdout",
     "output_type": "stream",
     "text": [
      "Gene\tbaseMean\tlog2FoldChange\tlfcSE\tstat\tpvalue\tpadj\n",
      "15:CDKN1A\t5581.59669285255\t2.04608629655726\t0.118416068563776\t17.2787892840345\t6.79596304358873e-67\t7.3406109389392e-64\n",
      "11164:BBC3\t465.351001397489\t-0.0920452974015471\t0.174928764731525\t-0.526187317122002\t0.598758065203526\t0.810746728331637\n",
      "254:GDF15\t1443.51187631608\t1.13199254557894\t0.155124492574137\t7.29731666995099\t2.93563317601618e-13\t1.75464999556192e-11\n"
     ]
    }
   ],
   "source": [
    "head -1 deseq.results.tsv\n",
    "grep -n CDKN1A deseq.results.tsv\n",
    "grep -n BBC3 deseq.results.tsv\n",
    "grep -n GDF15 deseq.results.tsv"
   ]
  },
  {
   "cell_type": "markdown",
   "metadata": {},
   "source": [
    "## Use arbitrary thresholds to create lists of up- and down-regulated genes\n",
    "* careful: there are a lot of genes without detected expression, they have NA in the logFC column; so column 3 ($3) should not be \"NA\" \n",
    "* we're using awk to filter this file, selecting only rows where the logFC (column 3, indicated by \"\\$3\") is higher than a threshold; and the padj is lower than a threshold\n",
    "* print ; => prints all the columns of the rows that fulfill our requirements"
   ]
  },
  {
   "cell_type": "code",
   "execution_count": 23,
   "metadata": {
    "scrolled": true
   },
   "outputs": [
    {
     "name": "stdout",
     "output_type": "stream",
     "text": [
      "UHRF1\t2481.16663973242\t3.38820129078875\t0.154275487048341\t21.9620197324484\t6.64776705861637e-107\t3.35091778201322e-103\n",
      "NPTX1\t4342.91468586552\t1.85232097824919\t0.0973267533263673\t19.0319815974727\t9.26808362611439e-81\t1.55724400660113e-77\n",
      "ELAVL3\t1190.77364964771\t2.42132378972336\t0.138470500546997\t17.4862066661019\t1.82508518938519e-68\t2.29991151949023e-65\n",
      "CDKN1A\t5581.59669285255\t2.04608629655726\t0.118416068563776\t17.2787892840345\t6.79596304358873e-67\t7.3406109389392e-64\n",
      "DLG5\t3143.06225104625\t1.60274691900141\t0.11837374570092\t13.5397161719531\t9.11403810906267e-42\t4.17643891773472e-39\n",
      "ITPR3\t2688.66278362004\t1.40989166212935\t0.104744232015028\t13.4603274567622\t2.67727099071539e-41\t1.19075564475289e-38\n",
      "HMGB2\t6945.75430320763\t1.36545648236078\t0.102837473391484\t13.2778104841484\t3.113659152081e-40\t1.27256091075051e-37\n",
      "DCAF16\t1268.06843394424\t1.66107846534364\t0.126654775196081\t13.1150085953888\t2.70151604569504e-39\t1.02130814107501e-36\n",
      "CACNA2D1\t1025.98754074204\t1.74925290796934\t0.135734144000752\t12.8873462226251\t5.30376488068906e-38\t1.86519843083209e-35\n",
      "ABI2\t3397.8645574603\t1.27378073740497\t0.101169102817592\t12.5906101955021\t2.37827738957231e-36\t7.65198099683244e-34\n"
     ]
    }
   ],
   "source": [
    "awk '$3 != \"NA\" && $3 > 1 && $7 < 0.05 {print ;}' deseq.results.tsv | head"
   ]
  },
  {
   "cell_type": "code",
   "execution_count": 24,
   "metadata": {},
   "outputs": [
    {
     "name": "stdout",
     "output_type": "stream",
     "text": [
      "212 up-logFC1-p05.txt\n",
      "562 down-logFC1-p05.txt\n"
     ]
    }
   ],
   "source": [
    "awk '$3 != \"NA\" && $3 > 1 && $7 < 0.05 {print $1}' deseq.results.tsv > up-logFC1-p05.txt\n",
    "awk '$3 != \"NA\" && $3 < -1 && $7 < 0.05 {print $1}' deseq.results.tsv > down-logFC1-p05.txt\n",
    "\n",
    "wc -l up-logFC1-p05.txt\n",
    "wc -l down-logFC1-p05.txt"
   ]
  },
  {
   "cell_type": "markdown",
   "metadata": {},
   "source": [
    "## Humanmine.org\n",
    "Create a new list on humanmine.org, then click \"Save List of N genes\"\n",
    "* For mouse genes, use mousemine.org\n",
    "* For Drosophila genes, use flymine.org"
   ]
  },
  {
   "cell_type": "markdown",
   "metadata": {},
   "source": [
    "## Use the entire ranking to determine the \"leading edge\"\n",
    "### GORilla\n",
    "Sort all genes descending by their logFC or padj; here we use logFC"
   ]
  },
  {
   "cell_type": "code",
   "execution_count": 25,
   "metadata": {},
   "outputs": [
    {
     "name": "stdout",
     "output_type": "stream",
     "text": [
      "CD300LG\n",
      "TSPAN7\n",
      "MUC5AC\n",
      "SPRED3\n",
      "AC090505.6\n",
      "NLRX1\n",
      "CTD-2140B24.6\n",
      "FAM65B\n",
      "EPN3\n",
      "TNFRSF10D\n",
      "grep: write error: Broken pipe\n",
      "sort: write failed: 'standard output': Broken pipe\n",
      "sort: write error\n"
     ]
    }
   ],
   "source": [
    "cat deseq.results.tsv | sort -k 3,3gr | awk '$3 != \"NA\" {print $1}' | grep -v Gene | head"
   ]
  },
  {
   "cell_type": "code",
   "execution_count": 26,
   "metadata": {},
   "outputs": [],
   "source": [
    "cat deseq.results.tsv | sort -k 3,3gr | awk '$3 != \"NA\" {print $1}' | grep -v Gene > deseq.results.sortFCdesc.txt"
   ]
  },
  {
   "cell_type": "markdown",
   "metadata": {},
   "source": [
    "Go to http://cbl-gorilla.cs.technion.ac.il/ and enter the text file with ranked gene names, then click on search for enriched GO terms:"
   ]
  }
 ],
 "metadata": {
  "kernelspec": {
   "display_name": "Bash",
   "language": "bash",
   "name": "bash"
  },
  "language_info": {
   "codemirror_mode": "shell",
   "file_extension": ".sh",
   "mimetype": "text/x-sh",
   "name": "bash"
  }
 },
 "nbformat": 4,
 "nbformat_minor": 2
}
