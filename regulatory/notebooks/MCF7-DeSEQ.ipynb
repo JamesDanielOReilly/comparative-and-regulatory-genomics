{
 "cells": [
  {
   "cell_type": "markdown",
   "metadata": {},
   "source": [
    "# RNAseq analysis workflow using DESeq2"
   ]
  },
  {
   "cell_type": "code",
   "execution_count": 3,
   "metadata": {
    "scrolled": true
   },
   "outputs": [],
   "source": [
    "library(\"DESeq2\")\n",
    "library(scales)\n",
    "options(repr.plot.width=8, repr.plot.height=8)"
   ]
  },
  {
   "cell_type": "markdown",
   "metadata": {},
   "source": [
    "Ensure we're in the correct directory:"
   ]
  },
  {
   "cell_type": "code",
   "execution_count": 3,
   "metadata": {},
   "outputs": [
    {
     "ename": "ERROR",
     "evalue": "Error in setwd(path.expand(\"mnt/storage/r0773125/jupyternotebooks/RNA-seq\")): cannot change working directory\n",
     "output_type": "error",
     "traceback": [
      "Error in setwd(path.expand(\"mnt/storage/r0773125/jupyternotebooks/RNA-seq\")): cannot change working directory\nTraceback:\n",
      "1. setwd(path.expand(\"mnt/storage/r0773125/jupyternotebooks/RNA-seq\"))"
     ]
    }
   ],
   "source": [
    "setwd(path.expand(\"/home/luna.kuleuven.be/u0038182/data/jupyternotebooks/2018/\"))"
   ]
  },
  {
   "cell_type": "markdown",
   "metadata": {},
   "source": [
    "Define the file containing the raw counts (the ones we generated last session):"
   ]
  },
  {
   "cell_type": "code",
   "execution_count": 3,
   "metadata": {},
   "outputs": [],
   "source": [
    "matrixFile = path.expand(\"/mnt/nfs/data/RNA-seq/MCF7/all.gene.counts\")"
   ]
  },
  {
   "cell_type": "code",
   "execution_count": 5,
   "metadata": {},
   "outputs": [
    {
     "data": {
      "text/html": [
       "<table>\n",
       "<caption>A matrix: 6 × 4 of type int</caption>\n",
       "<thead>\n",
       "\t<tr><th></th><th scope=col>NS1.bam</th><th scope=col>NS2.bam</th><th scope=col>S1.bam</th><th scope=col>S2.bam</th></tr>\n",
       "</thead>\n",
       "<tbody>\n",
       "\t<tr><th scope=row>MIR1302-11</th><td> 0</td><td> 0</td><td> 0</td><td> 0</td></tr>\n",
       "\t<tr><th scope=row>FAM138A</th><td> 0</td><td> 0</td><td> 0</td><td> 0</td></tr>\n",
       "\t<tr><th scope=row>OR4F5</th><td> 0</td><td> 0</td><td> 0</td><td> 0</td></tr>\n",
       "\t<tr><th scope=row>RP11-34P13.7</th><td> 0</td><td> 0</td><td> 0</td><td> 1</td></tr>\n",
       "\t<tr><th scope=row>RP11-34P13.8</th><td> 0</td><td> 0</td><td> 0</td><td> 0</td></tr>\n",
       "\t<tr><th scope=row>AL627309.1</th><td>37</td><td>42</td><td>83</td><td>62</td></tr>\n",
       "</tbody>\n",
       "</table>\n"
      ],
      "text/latex": [
       "A matrix: 6 × 4 of type int\n",
       "\\begin{tabular}{r|llll}\n",
       "  & NS1.bam & NS2.bam & S1.bam & S2.bam\\\\\n",
       "\\hline\n",
       "\tMIR1302-11 &  0 &  0 &  0 &  0\\\\\n",
       "\tFAM138A &  0 &  0 &  0 &  0\\\\\n",
       "\tOR4F5 &  0 &  0 &  0 &  0\\\\\n",
       "\tRP11-34P13.7 &  0 &  0 &  0 &  1\\\\\n",
       "\tRP11-34P13.8 &  0 &  0 &  0 &  0\\\\\n",
       "\tAL627309.1 & 37 & 42 & 83 & 62\\\\\n",
       "\\end{tabular}\n"
      ],
      "text/markdown": [
       "\n",
       "A matrix: 6 × 4 of type int\n",
       "\n",
       "| <!--/--> | NS1.bam | NS2.bam | S1.bam | S2.bam |\n",
       "|---|---|---|---|---|\n",
       "| MIR1302-11 |  0 |  0 |  0 |  0 |\n",
       "| FAM138A |  0 |  0 |  0 |  0 |\n",
       "| OR4F5 |  0 |  0 |  0 |  0 |\n",
       "| RP11-34P13.7 |  0 |  0 |  0 |  1 |\n",
       "| RP11-34P13.8 |  0 |  0 |  0 |  0 |\n",
       "| AL627309.1 | 37 | 42 | 83 | 62 |\n",
       "\n"
      ],
      "text/plain": [
       "             NS1.bam NS2.bam S1.bam S2.bam\n",
       "MIR1302-11    0       0       0      0    \n",
       "FAM138A       0       0       0      0    \n",
       "OR4F5         0       0       0      0    \n",
       "RP11-34P13.7  0       0       0      1    \n",
       "RP11-34P13.8  0       0       0      0    \n",
       "AL627309.1   37      42      83     62    "
      ]
     },
     "metadata": {},
     "output_type": "display_data"
    }
   ],
   "source": [
    "countData <- as.matrix(read.csv(matrixFile, sep=\"\\t\", row.names=\"Geneid\"))\n",
    "head(countData)"
   ]
  },
  {
   "cell_type": "markdown",
   "metadata": {},
   "source": [
    "If you want to check a single gene:"
   ]
  },
  {
   "cell_type": "code",
   "execution_count": 1,
   "metadata": {},
   "outputs": [
    {
     "ename": "ERROR",
     "evalue": "Error in eval(expr, envir, enclos): object 'countData' not found\n",
     "output_type": "error",
     "traceback": [
      "Error in eval(expr, envir, enclos): object 'countData' not found\nTraceback:\n"
     ]
    }
   ],
   "source": [
    "countData['UHRF1',]"
   ]
  },
  {
   "cell_type": "markdown",
   "metadata": {},
   "source": [
    "Make the column names somewhat nicer \n",
    "(ensure the order stays the same!)"
   ]
  },
  {
   "cell_type": "code",
   "execution_count": 7,
   "metadata": {},
   "outputs": [
    {
     "data": {
      "text/html": [
       "<table>\n",
       "<caption>A matrix: 6 × 4 of type int</caption>\n",
       "<thead>\n",
       "\t<tr><th></th><th scope=col>NS1</th><th scope=col>NS2</th><th scope=col>S1</th><th scope=col>S2</th></tr>\n",
       "</thead>\n",
       "<tbody>\n",
       "\t<tr><th scope=row>MIR1302-11</th><td> 0</td><td> 0</td><td> 0</td><td> 0</td></tr>\n",
       "\t<tr><th scope=row>FAM138A</th><td> 0</td><td> 0</td><td> 0</td><td> 0</td></tr>\n",
       "\t<tr><th scope=row>OR4F5</th><td> 0</td><td> 0</td><td> 0</td><td> 0</td></tr>\n",
       "\t<tr><th scope=row>RP11-34P13.7</th><td> 0</td><td> 0</td><td> 0</td><td> 1</td></tr>\n",
       "\t<tr><th scope=row>RP11-34P13.8</th><td> 0</td><td> 0</td><td> 0</td><td> 0</td></tr>\n",
       "\t<tr><th scope=row>AL627309.1</th><td>37</td><td>42</td><td>83</td><td>62</td></tr>\n",
       "</tbody>\n",
       "</table>\n"
      ],
      "text/latex": [
       "A matrix: 6 × 4 of type int\n",
       "\\begin{tabular}{r|llll}\n",
       "  & NS1 & NS2 & S1 & S2\\\\\n",
       "\\hline\n",
       "\tMIR1302-11 &  0 &  0 &  0 &  0\\\\\n",
       "\tFAM138A &  0 &  0 &  0 &  0\\\\\n",
       "\tOR4F5 &  0 &  0 &  0 &  0\\\\\n",
       "\tRP11-34P13.7 &  0 &  0 &  0 &  1\\\\\n",
       "\tRP11-34P13.8 &  0 &  0 &  0 &  0\\\\\n",
       "\tAL627309.1 & 37 & 42 & 83 & 62\\\\\n",
       "\\end{tabular}\n"
      ],
      "text/markdown": [
       "\n",
       "A matrix: 6 × 4 of type int\n",
       "\n",
       "| <!--/--> | NS1 | NS2 | S1 | S2 |\n",
       "|---|---|---|---|---|\n",
       "| MIR1302-11 |  0 |  0 |  0 |  0 |\n",
       "| FAM138A |  0 |  0 |  0 |  0 |\n",
       "| OR4F5 |  0 |  0 |  0 |  0 |\n",
       "| RP11-34P13.7 |  0 |  0 |  0 |  1 |\n",
       "| RP11-34P13.8 |  0 |  0 |  0 |  0 |\n",
       "| AL627309.1 | 37 | 42 | 83 | 62 |\n",
       "\n"
      ],
      "text/plain": [
       "             NS1 NS2 S1 S2\n",
       "MIR1302-11    0   0   0  0\n",
       "FAM138A       0   0   0  0\n",
       "OR4F5         0   0   0  0\n",
       "RP11-34P13.7  0   0   0  1\n",
       "RP11-34P13.8  0   0   0  0\n",
       "AL627309.1   37  42  83 62"
      ]
     },
     "metadata": {},
     "output_type": "display_data"
    }
   ],
   "source": [
    "colnames(countData) <- c(\"NS1\", \"NS2\", \"S1\", \"S2\")\n",
    "head(countData)"
   ]
  },
  {
   "cell_type": "markdown",
   "metadata": {},
   "source": [
    "You can plot the total amount of reads per sample"
   ]
  },
  {
   "cell_type": "code",
   "execution_count": 8,
   "metadata": {},
   "outputs": [
    {
     "data": {
      "image/png": "[encoded data removed]",
      "text/plain": [
       "plot without title"
      ]
     },
     "metadata": {
      "image/png": {
       "height": 180,
       "width": 240
      },
      "text/plain": {
       "height": 180,
       "width": 240
      }
     },
     "output_type": "display_data"
    }
   ],
   "source": [
    "barplot(colSums(countData))"
   ]
  },
  {
   "cell_type": "markdown",
   "metadata": {},
   "source": [
    "Define the experimental conditions - Note the order has to be the same as the column order of the `countData`:\n",
    "\n",
    "Another remark is that it is important that the order of the levels is correct. In this case `NS` comes first, which means that we will be comparing $S \\over NS$, so positive log fold change values are up in the stiumulated samples."
   ]
  },
  {
   "cell_type": "code",
   "execution_count": 10,
   "metadata": {},
   "outputs": [
    {
     "name": "stdout",
     "output_type": "stream",
     "text": [
      "[1] NS NS S  S \n",
      "Levels: NS S\n"
     ]
    }
   ],
   "source": [
    "condition <- factor(c(\"NS\", \"NS\", \"S\", \"S\"))\n",
    "print(condition)"
   ]
  },
  {
   "cell_type": "markdown",
   "metadata": {},
   "source": [
    "Prepare a dataframe with the names and conditions. This will be fed to `DESeq2`. Ensure that the order is unchanged!"
   ]
  },
  {
   "cell_type": "code",
   "execution_count": 11,
   "metadata": {},
   "outputs": [
    {
     "data": {
      "text/html": [
       "<table>\n",
       "<caption>A data.frame: 4 × 2</caption>\n",
       "<thead>\n",
       "\t<tr><th scope=col>sampleName</th><th scope=col>condition</th></tr>\n",
       "\t<tr><th scope=col>&lt;fct&gt;</th><th scope=col>&lt;fct&gt;</th></tr>\n",
       "</thead>\n",
       "<tbody>\n",
       "\t<tr><td>NS1</td><td>NS</td></tr>\n",
       "\t<tr><td>NS2</td><td>NS</td></tr>\n",
       "\t<tr><td>S1 </td><td>S </td></tr>\n",
       "\t<tr><td>S2 </td><td>S </td></tr>\n",
       "</tbody>\n",
       "</table>\n"
      ],
      "text/latex": [
       "A data.frame: 4 × 2\n",
       "\\begin{tabular}{ll}\n",
       " sampleName & condition\\\\\n",
       " <fct> & <fct>\\\\\n",
       "\\hline\n",
       "\t NS1 & NS\\\\\n",
       "\t NS2 & NS\\\\\n",
       "\t S1  & S \\\\\n",
       "\t S2  & S \\\\\n",
       "\\end{tabular}\n"
      ],
      "text/markdown": [
       "\n",
       "A data.frame: 4 × 2\n",
       "\n",
       "| sampleName &lt;fct&gt; | condition &lt;fct&gt; |\n",
       "|---|---|\n",
       "| NS1 | NS |\n",
       "| NS2 | NS |\n",
       "| S1  | S  |\n",
       "| S2  | S  |\n",
       "\n"
      ],
      "text/plain": [
       "  sampleName condition\n",
       "1 NS1        NS       \n",
       "2 NS2        NS       \n",
       "3 S1         S        \n",
       "4 S2         S        "
      ]
     },
     "metadata": {},
     "output_type": "display_data"
    }
   ],
   "source": [
    "colData <- data.frame(sampleName = colnames(countData),\n",
    "                      condition = condition)\n",
    "colData"
   ]
  },
  {
   "cell_type": "markdown",
   "metadata": {},
   "source": [
    "Here we create a DESeq `DESeqDataSet` object for subsequent analysis:"
   ]
  },
  {
   "cell_type": "code",
   "execution_count": 12,
   "metadata": {},
   "outputs": [],
   "source": [
    "dds <- DESeqDataSetFromMatrix(countData = countData,\n",
    "                              colData = colData,\n",
    "                              design = ~ condition)\n",
    "#we need to do this to ensure the column names are correct.\n",
    "colnames(dds) <- colnames(countData)"
   ]
  },
  {
   "cell_type": "markdown",
   "metadata": {},
   "source": [
    "By printing `dds` to screen we can see some information"
   ]
  },
  {
   "cell_type": "code",
   "execution_count": 13,
   "metadata": {},
   "outputs": [
    {
     "data": {
      "text/plain": [
       "class: DESeqDataSet \n",
       "dim: 41863 4 \n",
       "metadata(1): version\n",
       "assays(1): counts\n",
       "rownames(41863): MIR1302-11 FAM138A ... AC007965.1 RNU6-1314P\n",
       "rowData names(0):\n",
       "colnames(4): NS1 NS2 S1 S2\n",
       "colData names(2): sampleName condition"
      ]
     },
     "metadata": {},
     "output_type": "display_data"
    }
   ],
   "source": [
    "dds"
   ]
  },
  {
   "cell_type": "markdown",
   "metadata": {},
   "source": [
    "By comparing the `condition` factor in the `dds` object to the column names, you can confirm that the order is still correct"
   ]
  },
  {
   "cell_type": "code",
   "execution_count": 14,
   "metadata": {},
   "outputs": [
    {
     "data": {
      "text/html": [
       "<style>\n",
       ".list-inline {list-style: none; margin:0; padding: 0}\n",
       ".list-inline>li {display: inline-block}\n",
       ".list-inline>li:not(:last-child)::after {content: \"\\00b7\"; padding: 0 .5ex}\n",
       "</style>\n",
       "<ol class=list-inline><li>NS</li><li>NS</li><li>S</li><li>S</li></ol>\n",
       "\n",
       "<details>\n",
       "\t<summary style=display:list-item;cursor:pointer>\n",
       "\t\t<strong>Levels</strong>:\n",
       "\t</summary>\n",
       "\t<style>\n",
       "\t.list-inline {list-style: none; margin:0; padding: 0}\n",
       "\t.list-inline>li {display: inline-block}\n",
       "\t.list-inline>li:not(:last-child)::after {content: \"\\00b7\"; padding: 0 .5ex}\n",
       "\t</style>\n",
       "\t<ol class=list-inline><li>'NS'</li><li>'S'</li></ol>\n",
       "</details>"
      ],
      "text/latex": [
       "\\begin{enumerate*}\n",
       "\\item NS\n",
       "\\item NS\n",
       "\\item S\n",
       "\\item S\n",
       "\\end{enumerate*}\n",
       "\n",
       "\\emph{Levels}: \\begin{enumerate*}\n",
       "\\item 'NS'\n",
       "\\item 'S'\n",
       "\\end{enumerate*}\n"
      ],
      "text/markdown": [
       "1. NS\n",
       "2. NS\n",
       "3. S\n",
       "4. S\n",
       "\n",
       "\n",
       "\n",
       "**Levels**: 1. 'NS'\n",
       "2. 'S'\n",
       "\n",
       "\n"
      ],
      "text/plain": [
       "[1] NS NS S  S \n",
       "Levels: NS S"
      ]
     },
     "metadata": {},
     "output_type": "display_data"
    }
   ],
   "source": [
    "dds$condition"
   ]
  },
  {
   "cell_type": "markdown",
   "metadata": {},
   "source": [
    "## Run the differential expression:\n",
    "\n",
    "one function within `DESeq2` runs all steps required:"
   ]
  },
  {
   "cell_type": "code",
   "execution_count": 15,
   "metadata": {},
   "outputs": [
    {
     "name": "stderr",
     "output_type": "stream",
     "text": [
      "estimating size factors\n",
      "\n",
      "estimating dispersions\n",
      "\n",
      "gene-wise dispersion estimates\n",
      "\n",
      "mean-dispersion relationship\n",
      "\n",
      "final dispersion estimates\n",
      "\n",
      "fitting model and testing\n",
      "\n"
     ]
    }
   ],
   "source": [
    "dds <- DESeq(dds)"
   ]
  },
  {
   "cell_type": "markdown",
   "metadata": {},
   "source": [
    "## QC"
   ]
  },
  {
   "cell_type": "markdown",
   "metadata": {},
   "source": [
    "DESeq2 estimates a factor to correct for the library size:"
   ]
  },
  {
   "cell_type": "code",
   "execution_count": 16,
   "metadata": {},
   "outputs": [
    {
     "data": {
      "image/png": "[encoded data removed]",
      "text/plain": [
       "plot without title"
      ]
     },
     "metadata": {
      "image/png": {
       "height": 180,
       "width": 240
      },
      "text/plain": {
       "height": 180,
       "width": 240
      }
     },
     "output_type": "display_data"
    }
   ],
   "source": [
    "options(repr.plot.width=4, repr.plot.height=3)\n",
    "barplot(sizeFactors(dds))"
   ]
  },
  {
   "cell_type": "markdown",
   "metadata": {},
   "source": [
    "This is very comparable to the sum of all reads per sample of the raw data, however, `DESeq2` is less sensitive to outliers:"
   ]
  },
  {
   "cell_type": "code",
   "execution_count": 17,
   "metadata": {},
   "outputs": [
    {
     "data": {
      "image/png": "[encoded data removed]",
      "text/plain": [
       "plot without title"
      ]
     },
     "metadata": {
      "image/png": {
       "height": 180,
       "width": 240
      },
      "text/plain": {
       "height": 180,
       "width": 240
      }
     },
     "output_type": "display_data"
    }
   ],
   "source": [
    "barplot(colSums(countData))"
   ]
  },
  {
   "cell_type": "markdown",
   "metadata": {},
   "source": [
    "A scatter plot of sample vs sample will show us how the samples compare; are the replicates more similar than beween stimulated and non-stimulated?"
   ]
  },
  {
   "cell_type": "code",
   "execution_count": 18,
   "metadata": {},
   "outputs": [
    {
     "data": {
      "image/png": "[encoded data removed]",
      "text/plain": [
       "plot without title"
      ]
     },
     "metadata": {
      "image/png": {
       "height": 300,
       "width": 300
      },
      "text/plain": {
       "height": 300,
       "width": 300
      }
     },
     "output_type": "display_data"
    }
   ],
   "source": [
    "options(repr.plot.width=5, repr.plot.height=5)\n",
    "plot(data.frame(log10(counts(dds))), cex=0.1, col=alpha(\"black\", 0.4))"
   ]
  },
  {
   "cell_type": "markdown",
   "metadata": {},
   "source": [
    "We can also do a PCA plot to understand inter-sample variation:"
   ]
  },
  {
   "cell_type": "markdown",
   "metadata": {},
   "source": [
    "#### MA plot\n",
    "\n",
    "An MA plot show the mean expression vs the log fold change and is a very common method to visualize the results of a differential expression plot. Significantly differentially expressed genes are colored red:"
   ]
  },
  {
   "cell_type": "code",
   "execution_count": 19,
   "metadata": {},
   "outputs": [
    {
     "data": {
      "image/png": "[encoded data removed]",
      "text/plain": [
       "Plot with title “”"
      ]
     },
     "metadata": {
      "image/png": {
       "height": 240,
       "width": 300
      },
      "text/plain": {
       "height": 240,
       "width": 300
      }
     },
     "output_type": "display_data"
    }
   ],
   "source": [
    "options(repr.plot.width=5, repr.plot.height=4)\n",
    "plotMA(dds,ylim=c(-3,3))"
   ]
  },
  {
   "cell_type": "markdown",
   "metadata": {},
   "source": [
    "### export the results"
   ]
  },
  {
   "cell_type": "code",
   "execution_count": 20,
   "metadata": {},
   "outputs": [
    {
     "data": {
      "text/plain": [
       "log2 fold change (MLE): condition S vs NS \n",
       "Wald test p-value: condition S vs NS \n",
       "DataFrame with 6 rows and 6 columns\n",
       "                 baseMean    log2FoldChange             lfcSE              stat\n",
       "                <numeric>         <numeric>         <numeric>         <numeric>\n",
       "PLK1     2169.89887036599 -4.73276791052545  0.13660439511827 -34.6457953012998\n",
       "CDKN1A   25241.2080295721   4.4868593631955 0.131313746953649   34.168999570009\n",
       "CDC20    2087.37990872435 -4.46476556682858 0.132765443258258  -33.628973453157\n",
       "TP53INP1 3332.81998084826  4.19869152304937 0.128439177176337  32.6901153943466\n",
       "CCNA2    1833.68494342593 -4.66593933645505 0.145290280542013 -32.1146006398263\n",
       "KIF20A   2304.20076082827 -4.67958381927593 0.146025361042091 -32.0463773270662\n",
       "                        pvalue                  padj\n",
       "                     <numeric>             <numeric>\n",
       "PLK1     5.16814761362324e-263 8.15740419334293e-259\n",
       "CDKN1A   6.98352056722933e-256 5.51139443165739e-252\n",
       "CDC20    6.32881904304473e-248  3.3298026591806e-244\n",
       "TP53INP1 2.15823729821513e-234  8.5164043787569e-231\n",
       "CCNA2    2.75763794111503e-226 8.70531145251192e-223\n",
       "KIF20A   2.46588101336856e-225 6.48691098583489e-222"
      ]
     },
     "metadata": {},
     "output_type": "display_data"
    }
   ],
   "source": [
    "res <- results(dds)\n",
    "res <- res[order(res$padj),]\n",
    "head(res)"
   ]
  },
  {
   "cell_type": "markdown",
   "metadata": {},
   "source": [
    "How many genes are differentially expressed?"
   ]
  },
  {
   "cell_type": "code",
   "execution_count": 21,
   "metadata": {},
   "outputs": [
    {
     "data": {
      "text/html": [
       "<ol class=list-inline>\n",
       "\t<li>5612</li>\n",
       "\t<li>6</li>\n",
       "</ol>\n"
      ],
      "text/latex": [
       "\\begin{enumerate*}\n",
       "\\item 5612\n",
       "\\item 6\n",
       "\\end{enumerate*}\n"
      ],
      "text/markdown": [
       "1. 5612\n",
       "2. 6\n",
       "\n",
       "\n"
      ],
      "text/plain": [
       "[1] 5612    6"
      ]
     },
     "metadata": {},
     "output_type": "display_data"
    }
   ],
   "source": [
    "res.sign <- res[(!is.na(res$padj)) & (res$padj < 0.05),]\n",
    "dim(res.sign)"
   ]
  },
  {
   "cell_type": "code",
   "execution_count": 27,
   "metadata": {},
   "outputs": [
    {
     "data": {
      "image/png": "[encoded data removed]",
      "text/plain": [
       "Plot with title “frequencies of adj. p-values\n",
       "(all genes)”"
      ]
     },
     "metadata": {},
     "output_type": "display_data"
    }
   ],
   "source": [
    "hist(res$padj, \n",
    "     col=\"grey\", border=\"white\", xlab=\"\", ylab=\"\", main=\"frequencies of adj. p-values\\n(all genes)\")\n"
   ]
  },
  {
   "cell_type": "code",
   "execution_count": 30,
   "metadata": {},
   "outputs": [
    {
     "data": {
      "image/png": "[encoded data removed]",
      "text/plain": [
       "Plot with title “BBC3”"
      ]
     },
     "metadata": {},
     "output_type": "display_data"
    }
   ],
   "source": [
    "par(mfrow=c(1,2))\n",
    "plotCounts(dds, gene=\"BBC3\", normalized = TRUE)  \n"
   ]
  },
  {
   "cell_type": "markdown",
   "metadata": {},
   "source": [
    "Save to disk:"
   ]
  },
  {
   "cell_type": "code",
   "execution_count": 22,
   "metadata": {
    "collapsed": true
   },
   "outputs": [],
   "source": [
    "write.table(res, \"deseq.results.tsv\", sep=\"\\t\", col.names=NA, quote=FALSE)"
   ]
  },
  {
   "cell_type": "markdown",
   "metadata": {},
   "source": [
    "It is alwasy important to manually check a number of diff. expressing genes. As expected, `CDK1NA` goes up in the stimulated cells: "
   ]
  },
  {
   "cell_type": "code",
   "execution_count": 23,
   "metadata": {},
   "outputs": [
    {
     "data": {
      "text/plain": [
       "log2 fold change (MAP): condition S vs NS \n",
       "Wald test p-value: condition S vs NS \n",
       "DataFrame with 1 row and 6 columns\n",
       "      baseMean log2FoldChange     lfcSE      stat       pvalue         padj\n",
       "     <numeric>      <numeric> <numeric> <numeric>    <numeric>    <numeric>\n",
       "BBC3  562.3158       2.598969 0.2030378  12.80042 1.630715e-37 7.520835e-36"
      ]
     },
     "metadata": {},
     "output_type": "display_data"
    }
   ],
   "source": [
    "res['BBC3',]"
   ]
  },
  {
   "cell_type": "code",
   "execution_count": 24,
   "metadata": {},
   "outputs": [
    {
     "data": {
      "image/png": "[encoded data removed]",
      "text/plain": [
       "plot without title"
      ]
     },
     "metadata": {},
     "output_type": "display_data"
    }
   ],
   "source": [
    "barplot(counts(dds)[\"BBC3\",])"
   ]
  },
  {
   "cell_type": "code",
   "execution_count": 32,
   "metadata": {},
   "outputs": [
    {
     "data": {
      "text/plain": [
       "log2 fold change (MAP): condition S vs NS \n",
       "Wald test p-value: condition S vs NS \n",
       "DataFrame with 6 rows and 6 columns\n",
       "          baseMean log2FoldChange     lfcSE      stat        pvalue\n",
       "         <numeric>      <numeric> <numeric> <numeric>     <numeric>\n",
       "PLK1      2169.899      -4.662199 0.1336354 -34.88746 1.151771e-266\n",
       "CDKN1A   25241.208       4.424579 0.1296332  34.13154 2.512584e-255\n",
       "CDC20     2087.380      -4.401777 0.1301775 -33.81367 1.242057e-250\n",
       "TP53INP1  3332.820       4.143085 0.1265154  32.74766 3.278210e-235\n",
       "CCNA2     1833.685      -4.587429 0.1417288 -32.36766 7.829626e-230\n",
       "KIF20A    2304.201      -4.599800 0.1426322 -32.24938 3.589351e-228\n",
       "                  padj\n",
       "             <numeric>\n",
       "PLK1     1.683889e-262\n",
       "CDKN1A   1.836699e-251\n",
       "CDC20    6.052955e-247\n",
       "TP53INP1 1.198186e-231\n",
       "CCNA2    2.289383e-226\n",
       "KIF20A   8.746052e-225"
      ]
     },
     "metadata": {},
     "output_type": "display_data"
    }
   ],
   "source": [
    "res.sorted <- res[order(res$padj),]\n",
    "head(res.sorted)"
   ]
  },
  {
   "cell_type": "code",
   "execution_count": 33,
   "metadata": {},
   "outputs": [
    {
     "ename": "ERROR",
     "evalue": "Error in eval(expr, envir, enclos): object 'rlog.norm.counts' not found\n",
     "output_type": "error",
     "traceback": [
      "Error in eval(expr, envir, enclos): object 'rlog.norm.counts' not found\nTraceback:\n"
     ]
    }
   ],
   "source": [
    "# identify genes with the desired adjusted p-value cut-off\n",
    "DGEgenes <- rownames(subset(res.sorted, padj < 0.05))\n",
    "\n",
    "# extract rlog-transformed values into a matrix\n",
    "hm.mat_DGEgenes <- rlog.norm.counts[DGEgenes,]\n",
    "\n",
    "library(pheatmap)\n",
    "# heatmap of DEG sorted by p.adjust\n",
    "pheatmap(hm.mat_DGEgenes, scale=\"none\", show_rownames = FALSE, main = \"DGE (no scaling)\")\n",
    "pheatmap(hm.mat_DGEgenes, scale=\"row\", show_rownames = FALSE, main = \"DGE (row-based z-score)\")"
   ]
  },
  {
   "cell_type": "code",
   "execution_count": null,
   "metadata": {
    "collapsed": true
   },
   "outputs": [],
   "source": []
  }
 ],
 "metadata": {
  "kernelspec": {
   "display_name": "R",
   "language": "R",
   "name": "ir"
  },
  "language_info": {
   "codemirror_mode": "r",
   "file_extension": ".r",
   "mimetype": "text/x-r-source",
   "name": "R",
   "pygments_lexer": "r",
   "version": "3.6.3"
  }
 },
 "nbformat": 4,
 "nbformat_minor": 1
}
