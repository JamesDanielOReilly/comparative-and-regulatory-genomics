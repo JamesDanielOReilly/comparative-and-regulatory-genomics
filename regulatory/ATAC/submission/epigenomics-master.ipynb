{
  "cells": [
    {
      "cell_type": "markdown",
      "source": [
        "**Author:** James O'Reilly  \n",
        "**Student Number:** r0773125  \n",
        "**Email:** james.oreilly@student.kuleuven.be  "
      ],
      "metadata": {}
    },
    {
      "cell_type": "markdown",
      "source": [
        "# Introduction and Background\n",
        "I will be performing both ATAC-seq and ChIP-seq analyses to investigate treatment-induced tumor dormancy through YAP-mediated transcriptional reprogramming of the apoptotic pathway. The original publication is titled _\"Treatment-Induced Tumor Dormancy through YAP-Mediated Transcriptional Reprogramming of the\n",
        "Apoptotic Pathway\"_. A link to the pdf is given [here](https://www.cell.com/cancer-cell/fulltext/S1535-6108(19)30576-8).\n",
        "Below I will first give the necessary background for this notebook (effectively a summary of the relevant material in the paper). I will then discuss the nature of the data. Lastly, I will talk about which elements of the ATAC-seq and ChIP-seq analyses on which I want to focus.\n",
        "\n",
        "## Background \n",
        "Epidermal growth factor receptor (EGFR) tyrosine kinase inhibitors (TKIs) are the standard of care for patients with advanced EGFR-mutant non-small cell lung cancer (NSCLC). However, in most cases resistance arises after a dramatic initial response followed by a dormant state, with subsequent gradual growth into a drug-resistant tumour. This dormant state allows cells to evade apoptosis and survive. The mechanistic bases of how cancer cells evade the initial apoptosis in response to drug treatment or maintain tolerance in the presence of drug, are poorly understood.\n",
        "\n",
        "Despite sustained EGFR inhibition following EGFR TKI treatment, reactivation of ERK1/2 occurs within just a few days. Concomitant inhibition of MEK effectively prevents reactivation of ERK1/2, results in a greater initial\n",
        "apoptotic response, and leads to a more durable tumour control than single-agent EGFR inhibition. However, even with this combination, acquired resistance can still develop. The authors set out to elucidate the mechanisms that allow cancer cells to evade apoptosis and survive despite combined EGFR/MEK inhibition. The results of the paper which are relevant to this coursework are given below. Apologies that this is somewhat long, but the ATAC-seq and ChIP-seq performed as part of this paper were only a small part of the research and so there is a lot of context needed.\n",
        "\n",
        "![summary](images/epigenetics.png)\n",
        "\n",
        "- **Combined EGFR and MEK inhibition results in a stable but reversible dormant state** Combined use of an EGFR inhibitor osimertinib (O) and MEK inhibitor trametinib (T) results in a stable dormant state which is then reversed upon druh washout in NSCLC cells.\n",
        "\n",
        "\n",
        "\n",
        "- **The Establishment of Dormancy following EGFR/MEK Inhibition Is Critically Dependent on Activation of YAP/TEAD:** The authors performed ATAC-seq to explore potential epigenetic changes in dormant cells. They observed a significant difference in the global epigenetic states between the OT-induced dormant versus DMSO-treated cells, which reverted upon drug washout, demonstrating that the epigenetic changes acquired at dormancy are reversible. There was also a significant difference in epigenetic states between single-agent O- and OT-induced dormant cells. A motif analysis of OT-treated dormant cells versus control cells revealed that the three most significantly enriched motifs were the consensus sites for TEAD family transcription factors, suggesting that the OT-induced epigenetic state is associated with increased TEAD transcription factor binding. The TEAD transcription factors serve as canonical partners for the Hippo pathway effector YAP, which has been associated with resistance to EGFR TKIs in EGFR-mutant NSCLC. The authors also detected increased chromatin accessibility at putative distal enhancer sites upstream of CTGF TSS in OT-induced dormant cells compared with cells treated with O alone.\n",
        "    \n",
        "    \n",
        "- **YAP Mediates the Evasion of Apoptosis by Repressing the Induction of the Pro-apoptotic Protein BMF:** The authors performed RNA-sew analysis on YAP1 KO cells and identified BMF as one of the top upregulated genes in drug-treated YAP1 KO cells compared with drug-treated control cells. An increase in BMF in YAP1 KO cells would be expected to lead to increased activation of BAX and thus to enhanced apoptosis. the authors determined that YAP facilitates evasion of apoptosis in EGFR-mutant NSCLC cells by repressing the expression of BMF upon combined EGFR/MEK inhibition, leading to the establishment of the dormant cell population.\n",
        "\n",
        "\n",
        "## Motivation: Why choose this paper?\n",
        "As part of my integrated bioinformatics project, I'm analysing scATAC-seq data with ArchR. I initially wanted to just perform a ChIP-seq analysis, but I wasn't happy not being fully comfortable with the simple bulk ATAC-seq workflow and so I initially decided to do both. The ChIP-seq part of the analysis would be used to further investigate the findings of the ATAC-seq analysis, but I ran out of time and didn't complete it so I didn't include it here. I'm mostly interested in epigenetics and cancer and had previously read this paper, so it seemed like a natural choice.\n",
        "\n",
        "## Data\n",
        "Link to the GEO accession [here](https://www.ncbi.nlm.nih.gov/geo/query/acc.cgi?acc=GSE131687). The data consists of ATAC-seq data from EGFR-mutant NSCLC cells in four conditions: DMSO (control) osimertinib-treated (O), osimertinib + trametinib treated (OT), and rebound (OT and washed out).\n",
        "\n",
        "## Focus\n",
        "While I did every part of the ATAC-seq workflow, I chose to go in-depth into a few topics:\n",
        "- Post alignment processing and quality control using DeepTools\n",
        "- In detail discussion of peak calling for ATAC-seq with macs2\n",
        "- Motif analysis\n",
        "\n",
        "## Files\n",
        "This notebook has only one accompanying file: `atac.ipynb`\n"
      ],
      "metadata": {}
    }
  ],
  "metadata": {
    "kernelspec": {
      "display_name": "Bash",
      "language": "bash",
      "name": "bash"
    },
    "language_info": {
      "codemirror_mode": "shell",
      "file_extension": ".sh",
      "mimetype": "text/x-sh",
      "name": "bash"
    },
    "nteract": {
      "version": "0.25.1"
    }
  },
  "nbformat": 4,
  "nbformat_minor": 2
}