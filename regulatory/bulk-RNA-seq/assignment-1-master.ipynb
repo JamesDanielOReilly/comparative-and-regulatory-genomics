{
 "cells": [
  {
   "cell_type": "markdown",
   "metadata": {},
   "source": [
    "**Author:** James O'Reilly  \n",
    "**Student Number:** r0773125  \n",
    "**Email:** james.oreilly@student.kuleuven.be  "
   ]
  },
  {
   "cell_type": "markdown",
   "metadata": {},
   "source": [
    "# Introduction and Background\n",
    "I will be performing bulk RNA-seq analysis to investigate the tumor-promoting functions of UHRF1 in retinoblastoma. The original publication is titled _\"UHRF1 downmodulation enhances antitumor effects ofhistone deacetylase inhibitors in retinoblastoma byaugmenting oxidative stress-mediated apoptosis\"_. A link to the pdf is given [here](https://febs.onlinelibrary.wiley.com/doi/epdf/10.1002/1878-0261.12607). \n",
    "\n",
    "Below I will first give the necessary background for this notebook (effectively a summary of the relevant material in the paper). I will then discuss the nature of the data. Lastly, I will talk about which elements of the RNA-seq analysis I want to focus on.\n",
    "\n",
    "## Background \n",
    "Retinoblastoma (RB) is an intraocular cancer which occurs in the developing eye. Chemotherapy is used as a standard treatment option. This therapy has limitations such as drug resistance and adverse side effects due to drug toxicity. For this reason, other small molecule inhibitors such as HDACs are being considered for RB treatment. HDAC inhibitors are one such class of inhibitors being considered for treatment of RB, as they have been shown to exert diverse anticancer effects including apoptosis, cell cycle arrest, and differentiation. \n",
    "\n",
    "It has been demonstrated that downmodulation of UHRF1 in RB cells enhances sensitivity to chemotherapeutic drugs and may improve the efficacy of chemotherapy. UHFR1 is highly-expressed in RB without detectable expression in normal retina and has been proposed to mediate epigenetic deregulation of the genes critical for tumorigenesis. It has been reported that UHRF1 forms a complex with HDAC1 and binds to methylated promoters of tumor suppressor genes such as CDKN2A, suggesting that UHRF1 mediates the tumor suppressor repression in cooperation with HDAC1.\n",
    "\n",
    "This study investigated the roles of UHRF1 in RB cells and its eligibility as a potential target whose downmodulation can sensitise RB cells to HDAC inhibitors. To understand how UHRF1 depletion enhances apoptosis in RB cells in response to HDAC inhibitors, the authors performed RNA-sequencing to identify differentially expressed genes upon stable UHRF1 knockdown in RB cells. These analyses highlighted a number of different interactions and pathways which I will first introduce here before investigating them in the notebooks that follow. The most important interactions and pathways are illustrated in the figure below.\n",
    "\n",
    "![summary](functional_analysis_gene_signatures/images/functions-UHRF1.png)\n",
    "\n",
    "- **UHRF1 depletion impedes DNA repair by downregulating XRCC4:** UHRF1 depletion impedes DNA repair in RB cells by down-regulating XRCC4 involved in nonhomologous end-joining repair, which leads to higher apoptotic cell death in response to DNA damages induced by the genotoxic drugs.    \n",
    "    \n",
    "    \n",
    "- **UHRF1 depletion dergulates redox-responsive genes in RB cells:** Reactive oxygen species (ROS) accumulation is implicated in HDAC inhibitor-induced apoptosis in cancer cells. The RNA-seq analysis showed that ROS-detoxifying genes GSTA4 and TXN2 were significantly downregulated in UHRF1-depleted RB cells, which could lead to increased oxidative stress contributing to enhanced succeptibility to ROS-mediated apoptosis driven by HDAC inhibitors.\n",
    "    \n",
    "    \n",
    "- **UHRF1 depletion derepresses expression of photoreceptor genes in RB cells:** UHRF1 is known to be a transcriptional corepressor that silences genes involved in cellular differentiation. RNA-sequencing analysis revealed that many photoreceptor-speciﬁc genes were upregulated in UHRF1-depleted cells, which is consistent with previous reports that human RB displays photoreceptor like features and Y79 cells (human RB cell line) differentiate predominantly into a neuronal, photoreceptor cell population. \n",
    "\n",
    "## Motivation: Why choose this paper?\n",
    "I'm working with single cell expression data in both my integrated bioinformatics project and in my masters thesis. Because of this, I wanted to focus instead on bulk RNA-seq analysis here. I'm interested in epigenetics and cancer, and doing my thesis on the topic, so this paper seemed interesting to me. Also, the data is convenient and there are only two conditions, which allows me to just focus on understanding the basics and doing them correctly.\n",
    "\n",
    "## Data\n",
    "Link to the GEO accession [here](https://www.ncbi.nlm.nih.gov/geo/query/acc.cgi?acc=GSE135424). The data consists of gene expression profiling of control-knockdown (YT) and UHRF1-knockdown (YS) Y79 retinoblastoma cell line by RNA-seq. The reads are single-read and there are two independent biological replicates. In total, there are four samples: YT1, YT2, YS1, and YS2.\n",
    "\n",
    "## Focus\n",
    "There are a number of different steps in the analysis which I could focus on. At each step I tried to show that I put in effort to develop a full understanding and do research outside of the material given in the lectures. I went in-depth when reviewing the quality control and added some more quality control when using DESeq. After that I chose to focus mostly on gene set enrichment analysis and relate the findings to my paper. \n",
    "\n",
    "## Files\n",
    "This notebook serves as the master notebook. The analysis is split into three separate notebooks:\n",
    " - assignment-1-map.ipynb --\n",
    " - assignment-1-DeSeq.ipynb\n",
    " - assignment-1-FA.ipynb\n",
    "\n",
    "I was unsure how exactly you want these files organised and where exactly my findings/results should be displayed. All the mapping and quality control analysis is in the first file. The differential expression analysis is in the second file. The last file contains the functional analysis (GORilla, GSEA, HumanMine, Cytoscape). \n",
    "\n",
    "Cheers!"
   ]
  }
 ],
 "metadata": {
  "kernelspec": {
   "display_name": "R",
   "language": "R",
   "name": "ir"
  },
  "language_info": {
   "codemirror_mode": "r",
   "file_extension": ".r",
   "mimetype": "text/x-r-source",
   "name": "R",
   "pygments_lexer": "r",
   "version": "3.6.3"
  }
 },
 "nbformat": 4,
 "nbformat_minor": 2
}
