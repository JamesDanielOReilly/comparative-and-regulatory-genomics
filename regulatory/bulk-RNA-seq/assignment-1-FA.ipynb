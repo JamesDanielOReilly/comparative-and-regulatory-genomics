{
 "cells": [
  {
   "cell_type": "markdown",
   "metadata": {},
   "source": [
    "# Functional analysis of gene signatures\n",
    "\n",
    "In this session we will analyze the differentially expressed genes found by DESeq2. Two replicates of control knockdown (YT) RNA-seq samples were compared with 2 replicates of UHRF1 knockdown (YS) RNA-seq samples. \n",
    "\n",
    "The DESeq2 analysis resulted in a deseq.results.tsv file, which we will use here."
   ]
  },
  {
   "cell_type": "markdown",
   "metadata": {},
   "source": [
    "## Getting set up"
   ]
  },
  {
   "cell_type": "code",
   "execution_count": 19,
   "metadata": {},
   "outputs": [],
   "source": [
    "mkdir -p /mnt/storage/$USER/jupyternotebooks/functional_analysis_gene_signatures/\n",
    "cd /mnt/storage/$USER/jupyternotebooks/functional_analysis_gene_signatures/"
   ]
  },
  {
   "cell_type": "code",
   "execution_count": 20,
   "metadata": {},
   "outputs": [],
   "source": [
    "ln -sf /mnt/storage/r0773125/jupyternotebooks/RNA-seq/deseq.results.tsv .\n",
    "ln -sf /mnt/storage/r0773125/jupyternotebooks/RNA-seq/deseq.results.unshrunken.tsv ."
   ]
  },
  {
   "cell_type": "markdown",
   "metadata": {},
   "source": [
    "## Using arbitrary thresholds to create lists of up- and down-regulated genes\n",
    "Many people use arbitrary LFC and p-value thresholds to determine differentially expressed genes. A standard threshold is a LFC of 2 with a p-value of .05. The paper on which I'm basing this arbitrary threshold, and also does not use LFC shrinkage. Below I will first examine differentially expressed genes using this same arbitrary threshold, before using different LFC and p-value rankings to determine the best cut-off.\n",
    "\n",
    "First, I make text files with up- and down-regulated genes."
   ]
  },
  {
   "cell_type": "code",
   "execution_count": 22,
   "metadata": {},
   "outputs": [],
   "source": [
    "# shrunken\n",
    "awk '$3 != \"NA\" && $3 > 1 && $7 < 0.05 {print $1}' deseq.results.tsv > up-logFC1-p05.txt\n",
    "awk '$3 != \"NA\" && $3 < -1 && $7 < 0.05 {print $1}' deseq.results.tsv > down-logFC1-p05.txt\n",
    "\n",
    "#unshrunken\n",
    "awk '$3 != \"NA\" && $3 > 1 && $7 < 0.05 {print $1}' deseq.results.unshrunken.tsv > up-logFC1-p05-unshrunken.txt\n",
    "awk '$3 != \"NA\" && $3 < -1 && $7 < 0.05 {print $1}' deseq.results.unshrunken.tsv > down-logFC1-p05-unshrunken.txt"
   ]
  },
  {
   "cell_type": "markdown",
   "metadata": {},
   "source": [
    "Check the number of up- and down-regulated genes with and without LFC shrinkage. Without LFC shrinkage there are 781 DEGs. With LFC shrinkage there are 470 DEGs. In the paper there were 829 DEGs in the UHRF1-knockdown cells. This means that in total there were just under 50 more DEGs given in the paper than in my analysis here, when using the same arbitrary LFC threshold and significance cut-off. In the paper DEGs were detected using the EdgeR package, so that is potentially the reason for the difference, though it seems unlikely to me. I didn't end up looking much further into this as I wanted to focus on the functional analysis. "
   ]
  },
  {
   "cell_type": "code",
   "execution_count": 24,
   "metadata": {},
   "outputs": [
    {
     "name": "stdout",
     "output_type": "stream",
     "text": [
      "559 up-logFC1-p05-unshrunken.txt\n",
      "212 down-logFC1-p05-unshrunken.txt\n"
     ]
    }
   ],
   "source": [
    "# unshrunken\n",
    "wc -l up-logFC1-p05-unshrunken.txt\n",
    "wc -l down-logFC1-p05-unshrunken.txt"
   ]
  },
  {
   "cell_type": "code",
   "execution_count": 25,
   "metadata": {},
   "outputs": [
    {
     "name": "stdout",
     "output_type": "stream",
     "text": [
      "349 up-logFC1-p05.txt\n",
      "121 down-logFC1-p05.txt\n"
     ]
    }
   ],
   "source": [
    "# shrunken\n",
    "wc -l up-logFC1-p05.txt\n",
    "wc -l down-logFC1-p05.txt"
   ]
  },
  {
   "cell_type": "markdown",
   "metadata": {},
   "source": [
    "Moving forward, I will be using the data with LFC shrinkage as it is more conservative and more likely to be representative of a larger sample size. I do this because we only have two replicates for both control and knockdown and so I think it's best to be conservative with the estimates.\n",
    "\n",
    "I understand that this might give me different results to the original publication."
   ]
  },
  {
   "cell_type": "markdown",
   "metadata": {},
   "source": [
    "## Humanmine.org\n",
    "The list of DEGs were input to HumanMine to determine gene ontology enrichments and\n",
    "The outputs from HumanMine are given below.\n",
    "\n",
    "First let's look at the output for significantly upregulated genes:\n",
    "\n",
    "![MH-up-1](functional_analysis_gene_signatures/images/HM-up-1.png)\n",
    "\n",
    "![MH-up-2](functional_analysis_gene_signatures/images/HM-up-2.png)\n",
    "\n",
    "What can we see here? Firstly, the expected and observed distribution of genes across the chromosomes are similar, which is good. If we look at the enriched biological processes we see that the most highly-enriched processes are visual perception and sensory preception of light stimulus, which is expected as this sample was taken from retinoblastoma tissues. The pathway enrichment analysis also show that phototransduction is highly enriched.\n",
    "\n",
    "\n",
    "Now let's look at the output for significantly downregulated genes:\n",
    "\n",
    "![MH-up-1](functional_analysis_gene_signatures/images/HM-down-1.png)\n",
    "\n",
    "![MH-down-2](functional_analysis_gene_signatures/images/HM-down-2.png)\n",
    "\n",
    "Let's set the p-value threshold to 1, just to see the most prevalent gene-ontology enrichments and their significance. \n",
    "\n",
    "![MH-down-3](functional_analysis_gene_signatures/images/HM-down-3.png)"
   ]
  },
  {
   "cell_type": "markdown",
   "metadata": {},
   "source": [
    "## Use the entire ranking to determine the \"leading edge\"\n",
    "### GORilla\n",
    "First we sort all genes descending by their logFC"
   ]
  },
  {
   "cell_type": "code",
   "execution_count": 27,
   "metadata": {},
   "outputs": [],
   "source": [
    "cat deseq.results.tsv | sort -k 3,3gr | awk '$3 != \"NA\" {print $1}' | grep -v Gene > deseq.results.sortFCdesc.txt\n",
    "cat deseq.results.tsv | sort -k 3,3g | awk '$3 != \"NA\" {print $1}' | grep -v Gene > deseq.results.sortFCasc.txt"
   ]
  },
  {
   "cell_type": "markdown",
   "metadata": {},
   "source": [
    "Given below is a screenshot of GO terms and their enrichment from GORilla. The enrichment cutoffs could then be used for a more detailed selection DEGs related to each given GO term.\n",
    "\n",
    "![mmm](functional_analysis_gene_signatures/images/gorup-list.png)"
   ]
  },
  {
   "cell_type": "markdown",
   "metadata": {},
   "source": [
    "Looking at the figure above, we see that the enrichment is highest for photoreceptor cell development (30.3), rhodopsin mediated signaling pathway (28.98), and phototransduction (15.92). \n",
    "\n",
    "The row for phototransduction gives (15854,39,383,15). This implies there are 20 genes that are known to be involved in phototransduction, within the top 383 genes; while among all annotated 15854 genes in the human genome, there are 39 genes with this function.\n",
    "\n",
    "Therefore the leading edge (the position at which enrichment is highest for phototransduction), is given by 383. If we are interested in how UHRF1 regulates photoreceptor cell development, we can choose to use 383 as a more stringent cut-off than the arbitrary cutoff chosen previously."
   ]
  },
  {
   "cell_type": "markdown",
   "metadata": {},
   "source": [
    "# Gene Set Enrichment Analysis\n"
   ]
  },
  {
   "cell_type": "markdown",
   "metadata": {},
   "source": [
    "Generating a rnk file:"
   ]
  },
  {
   "cell_type": "code",
   "execution_count": 28,
   "metadata": {
    "scrolled": true
   },
   "outputs": [
    {
     "name": "stdout",
     "output_type": "stream",
     "text": [
      "RCVRN\t4.87355936460648\n",
      "DBH-AS1\t4.56772020966474\n",
      "RNF152\t4.14525881712738\n",
      "DBH\t4.02335481716765\n",
      "TNC\t3.74712049839423\n",
      "IMPG1\t3.69070300732618\n",
      "TFF1\t3.64799319678884\n",
      "DKK3\t3.54294325178647\n",
      "MYCL\t3.2096358536784\n",
      "CTNNA2\t3.19842349056195\n"
     ]
    }
   ],
   "source": [
    "cat deseq.results.tsv | sort -k 3,3gr | awk '$3 != \"NA\" {print $1, $3}' | grep -v Gene | tr ' ' '\\t' > deseq.logFC.rnk\n",
    "head deseq.logFC.rnk"
   ]
  },
  {
   "cell_type": "markdown",
   "metadata": {},
   "source": [
    "Using this ranked set of genes, I ran a GSEA analysis using a camera type eye development gene set from MSigDB. The geneset is given [here](https://www.gsea-msigdb.org/gsea/msigdb/geneset_page.jsp?geneSetName=GO_CAMERA_TYPE_EYE_DEVELOPMENT&keywords=photoreceptor). The outputs of the GSEA run are given below.\n",
    "\n",
    "![summary](functional_analysis_gene_signatures/images/GSEA_summary.png)\n",
    "![enrichment](functional_analysis_gene_signatures/images/GSEA-enrichment.png)\n",
    "![table](functional_analysis_gene_signatures/images/GSEA_table.png)\n"
   ]
  },
  {
   "cell_type": "markdown",
   "metadata": {},
   "source": [
    "I'm not really sure if we can make any valuable inferences from these results that have not already been made from the previous analyses. Again we see that there is enrichment in photoreceptors and eye development. I could not include all genes give in the list above, but there were enriched genes as far down in the ranking as 2000."
   ]
  },
  {
   "cell_type": "markdown",
   "metadata": {},
   "source": [
    "# Motif Discorvery - TF identification\n",
    "Lastly, I used iRegulon in cytoscape to identify enriched motifs and predicted transcription factors. The nitufs are give in an image below. The most enriched motif ID is 'transfac pro_M02101' which has a number of associated transcription factors: MYOG, TCF3, ASCL2, NEUROD1, NHLH1, and TCF12. I searched these transcription factors on GeneCards and found that most of them are involved in the initiation of neuronal differentiation.\n",
    "\n",
    "![motifs](functional_analysis_gene_signatures/images/tf-motifs.png)"
   ]
  }
 ],
 "metadata": {
  "kernelspec": {
   "display_name": "Bash",
   "language": "bash",
   "name": "bash"
  },
  "language_info": {
   "codemirror_mode": "shell",
   "file_extension": ".sh",
   "mimetype": "text/x-sh",
   "name": "bash"
  }
 },
 "nbformat": 4,
 "nbformat_minor": 2
}
