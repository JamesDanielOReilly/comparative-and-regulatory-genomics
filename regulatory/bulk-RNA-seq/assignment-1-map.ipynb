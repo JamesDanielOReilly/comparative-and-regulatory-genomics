{
 "cells": [
  {
   "cell_type": "markdown",
   "metadata": {},
   "source": [
    "## Getting set up"
   ]
  },
  {
   "cell_type": "code",
   "execution_count": 1,
   "metadata": {},
   "outputs": [],
   "source": [
    "mkdir -p /mnt/storage/$USER/jupyternotebooks/RNA-seq\n",
    "cd /mnt/storage/$USER/jupyternotebooks/RNA-seq"
   ]
  },
  {
   "cell_type": "code",
   "execution_count": 2,
   "metadata": {},
   "outputs": [],
   "source": [
    "vdb-config -s /repository/user/cache-disabled=true"
   ]
  },
  {
   "cell_type": "code",
   "execution_count": 12,
   "metadata": {
    "scrolled": false
   },
   "outputs": [
    {
     "name": "stdout",
     "output_type": "stream",
     "text": [
      "Rejected 33468246 READS because READLEN < 1\n",
      "Read 33468246 spots for SRR9908384\n",
      "Written 33468246 spots for SRR9908384\n",
      "Rejected 30176403 READS because READLEN < 1\n",
      "Read 30176403 spots for SRR9908385\n",
      "Written 30176403 spots for SRR9908385\n",
      "2020-11-05T19:00:14 fastq-dump.2.9.6 sys: timeout exhausted while reading file within network system module - mbedtls_ssl_read returned -76 ( NET - Reading information from the socket failed )\n",
      "Rejected 28272372 READS because READLEN < 1\n",
      "Read 28272372 spots for SRR9908386\n",
      "Written 28272372 spots for SRR9908386\n",
      "Rejected 34131697 READS because READLEN < 1\n",
      "Read 34131697 spots for SRR9908387\n",
      "Written 34131697 spots for SRR9908387\n",
      "Read 126048718 spots total\n",
      "Written 126048718 spots total\n"
     ]
    }
   ],
   "source": [
    "fastq-dump --split-files SRR9908384 SRR9908385 SRR9908386 SRR9908387 "
   ]
  },
  {
   "cell_type": "markdown",
   "metadata": {},
   "source": [
    "# Quality control using FastQC\n",
    "In this section I perform quality control for each of the runs and analyse the output. First I run FastQC: "
   ]
  },
  {
   "cell_type": "code",
   "execution_count": 13,
   "metadata": {
    "scrolled": true
   },
   "outputs": [
    {
     "name": "stdout",
     "output_type": "stream",
     "text": [
      "Started analysis of SRR9908384_1.fastq\n",
      "Approx 5% complete for SRR9908384_1.fastq\n",
      "Approx 10% complete for SRR9908384_1.fastq\n",
      "Approx 15% complete for SRR9908384_1.fastq\n",
      "Approx 20% complete for SRR9908384_1.fastq\n",
      "Approx 25% complete for SRR9908384_1.fastq\n",
      "Approx 30% complete for SRR9908384_1.fastq\n",
      "Approx 35% complete for SRR9908384_1.fastq\n",
      "Approx 40% complete for SRR9908384_1.fastq\n",
      "Approx 45% complete for SRR9908384_1.fastq\n",
      "Approx 50% complete for SRR9908384_1.fastq\n",
      "Approx 55% complete for SRR9908384_1.fastq\n",
      "Approx 60% complete for SRR9908384_1.fastq\n",
      "Approx 65% complete for SRR9908384_1.fastq\n",
      "Approx 70% complete for SRR9908384_1.fastq\n",
      "Approx 75% complete for SRR9908384_1.fastq\n",
      "Approx 80% complete for SRR9908384_1.fastq\n",
      "Approx 85% complete for SRR9908384_1.fastq\n",
      "Approx 90% complete for SRR9908384_1.fastq\n",
      "Approx 95% complete for SRR9908384_1.fastq\n",
      "Analysis complete for SRR9908384_1.fastq\n",
      "Started analysis of SRR9908385_1.fastq\n",
      "Approx 5% complete for SRR9908385_1.fastq\n",
      "Approx 10% complete for SRR9908385_1.fastq\n",
      "Approx 15% complete for SRR9908385_1.fastq\n",
      "Approx 20% complete for SRR9908385_1.fastq\n",
      "Approx 25% complete for SRR9908385_1.fastq\n",
      "Approx 30% complete for SRR9908385_1.fastq\n",
      "Approx 35% complete for SRR9908385_1.fastq\n",
      "Approx 40% complete for SRR9908385_1.fastq\n",
      "Approx 45% complete for SRR9908385_1.fastq\n",
      "Approx 50% complete for SRR9908385_1.fastq\n",
      "Approx 55% complete for SRR9908385_1.fastq\n",
      "Approx 60% complete for SRR9908385_1.fastq\n",
      "Approx 65% complete for SRR9908385_1.fastq\n",
      "Approx 70% complete for SRR9908385_1.fastq\n",
      "Approx 75% complete for SRR9908385_1.fastq\n",
      "Approx 80% complete for SRR9908385_1.fastq\n",
      "Approx 85% complete for SRR9908385_1.fastq\n",
      "Approx 90% complete for SRR9908385_1.fastq\n",
      "Approx 95% complete for SRR9908385_1.fastq\n",
      "Analysis complete for SRR9908385_1.fastq\n",
      "Started analysis of SRR9908386_1.fastq\n",
      "Approx 5% complete for SRR9908386_1.fastq\n",
      "Approx 10% complete for SRR9908386_1.fastq\n",
      "Approx 15% complete for SRR9908386_1.fastq\n",
      "Approx 20% complete for SRR9908386_1.fastq\n",
      "Approx 25% complete for SRR9908386_1.fastq\n",
      "Approx 30% complete for SRR9908386_1.fastq\n",
      "Approx 35% complete for SRR9908386_1.fastq\n",
      "Approx 40% complete for SRR9908386_1.fastq\n",
      "Approx 45% complete for SRR9908386_1.fastq\n",
      "Approx 50% complete for SRR9908386_1.fastq\n",
      "Approx 55% complete for SRR9908386_1.fastq\n",
      "Approx 60% complete for SRR9908386_1.fastq\n",
      "Approx 65% complete for SRR9908386_1.fastq\n",
      "Approx 70% complete for SRR9908386_1.fastq\n",
      "Approx 75% complete for SRR9908386_1.fastq\n",
      "Approx 80% complete for SRR9908386_1.fastq\n",
      "Approx 85% complete for SRR9908386_1.fastq\n",
      "Approx 90% complete for SRR9908386_1.fastq\n",
      "Approx 95% complete for SRR9908386_1.fastq\n",
      "Analysis complete for SRR9908386_1.fastq\n",
      "Started analysis of SRR9908387_1.fastq\n",
      "Approx 5% complete for SRR9908387_1.fastq\n",
      "Approx 10% complete for SRR9908387_1.fastq\n",
      "Approx 15% complete for SRR9908387_1.fastq\n",
      "Approx 20% complete for SRR9908387_1.fastq\n",
      "Approx 25% complete for SRR9908387_1.fastq\n",
      "Approx 30% complete for SRR9908387_1.fastq\n",
      "Approx 35% complete for SRR9908387_1.fastq\n",
      "Approx 40% complete for SRR9908387_1.fastq\n",
      "Approx 45% complete for SRR9908387_1.fastq\n",
      "Approx 50% complete for SRR9908387_1.fastq\n",
      "Approx 55% complete for SRR9908387_1.fastq\n",
      "Approx 60% complete for SRR9908387_1.fastq\n",
      "Approx 65% complete for SRR9908387_1.fastq\n",
      "Approx 70% complete for SRR9908387_1.fastq\n",
      "Approx 75% complete for SRR9908387_1.fastq\n",
      "Approx 80% complete for SRR9908387_1.fastq\n",
      "Approx 85% complete for SRR9908387_1.fastq\n",
      "Approx 90% complete for SRR9908387_1.fastq\n",
      "Approx 95% complete for SRR9908387_1.fastq\n",
      "Analysis complete for SRR9908387_1.fastq\n"
     ]
    }
   ],
   "source": [
    "/usr/bin/fastqc -o . *.fastq"
   ]
  },
  {
   "cell_type": "markdown",
   "metadata": {},
   "source": [
    "Each of the fastqc.html files are given in the archive folder with the notebooks. I'll add relevant screenshots here and discuss the results. For analysis of the FastQC results, I sourced heavily from this [tutorial](https://rtsf.natsci.msu.edu/genomics/tech-notes/fastqc-tutorial-and-faq/#:~:text=The%20output%20from%20FastQC%2C%20after,or%20%E2%80%9CFail%E2%80%9D%20is%20assigned.).\n",
    "\n",
    "The results were very similar for each run. The list of FastQC criteria and the pass or fail result is given below:\n",
    "\n",
    "![QC-summary](RNA-seq/QC-plots/QC-summary.png \"QC-summary\")"
   ]
  },
  {
   "cell_type": "markdown",
   "metadata": {},
   "source": [
    "## Per-base sequence quality\n",
    "Quality scores across all bases are given in the image below. The quality of the reads for the first siz base-pairs is lower. It is normal with all Illumina sequencers for the median quality score to start out lower over the first 5-7 bases and to then rise. The blue line is the mean quality score at each base position/window. The per-base quality graph given for each of these runs is very good.\n",
    "\n",
    "![PBSQ](RNA-seq/QC-plots/PBSQ.png \"Per-base sequence quality\") \n",
    "\n",
    "## Per-sequence quality scores\n",
    "This gives a plot of the total number of reads vs the average quality score over full length of that read.\n",
    "\n",
    "In a high-quality run, the distribution of average read quality should be fairly tight in the upper range of the plot, as is the case here.\n",
    "\n",
    "![PSQS](RNA-seq/QC-plots/PSQS.png \"Per-sequence quality scores\") \n",
    "\n",
    "## Per-base sequence content\n",
    "This plot reports the percent of bases called for each of the four nucleotides at each position across all reads in the file. With most RNA-Seq library preparation protocols there is clear non-uniform distribution of bases for the first 10-15 nucleotides. This is normal and expected depending on the type of library kit used. RNA-Seq data showing this non-uniform base composition will always be classified as failed by FastQC for this module even though the sequence is perfectly good, which is the case here.\n",
    "\n",
    "![PBQC](RNA-seq/QC-plots/PBSC.png \"Per-base sequence content\")\n",
    "\n",
    "## Per-sequence GC content\n",
    "This gives a plot of the number of reads vs. GC% per read. The expectation is that the GC content of all reads should form a normal distribution with the peak of the curve at the mean GC content for the organism sequenced.\n",
    "The plot given below shows that this run fits the expected distribution. \n",
    "\n",
    "![PSGC](RNA-seq/QC-plots/PSGC.png \"Per-sequence GC content\")\n",
    "\n",
    "If the observed distribution deviates too far from the theoretical, FastQC will call a fail. However, this call can often be ignored. For example, in RNA sequencing there may be a greater or lesser distribution of mean GC content among transcripts causing the observed plot to be wider or narrower than an idealised normal distribution.\n",
    "\n",
    "## Sequence length distribution\n",
    "This gives a graph showing the distribution of fragment sizes. The sequencer used generates uniform-length sequences of 50bp. The plot given below shows this.\n",
    "\n",
    "![SLD](RNA-seq/QC-plots/SLD.png \"Sequence length distribution\")\n",
    "\n",
    "## Sequence duplication levels\n",
    "Percentage of reads of a given sequence in the file which are present a given number of times in the file. There are generally two sources of duplicate reads: \n",
    "\n",
    " - PCR duplication in which library fragments have been over represented due to biased PCR enrichment \n",
    " - Truly over represented sequences such as very abundant transcripts in an RNA-Seq library \n",
    " \n",
    "PCR duplication is a concern because PCR duplicates misrepresent the true proportion of sequences in your starting material. The latter is an expected case and not of concern because it does faithfully represent your input.\n",
    "\n",
    "When sequencing RNA there will be some very highly abundant transcripts and some lowly abundant. It is expected that duplicate reads will be observed for high abundance transcripts. The sequence duplication plot below was called as Failed by FastQC even though the duplication is expected in this case.\n",
    "\n",
    "![SDL](RNA-seq/QC-plots/SDL.png \"Sequence duplication levels\")\n",
    "\n",
    "## Over-represented sequences\n",
    "There were no over-represented sequences. \n",
    "\n",
    "## Adapter content\n",
    "Ideally Illumina sequence data should not have any adapter sequence present, however when using long read lengths it is possible that some of the library inserts are shorter than the read length resulting in read-through to the adapter at the 3’ end of the read. This is more likely to occur with RNA-Seq libraries where the distribution of library insert sizes is more varied and likely to include some short inserts. In the QC performed here, no adapters were identified and so no trimming is needed.\n",
    "\n",
    "## K-mer content\n",
    "Measures the count of each short nucleotide of length _k_ (default = 7) starting at each positon along the read. Any given Kmer should be evenly represented across the length of the read. A list of kmers which appear at specific positions with greater than expected frequency are reported.\n",
    "\n",
    "As with the sequence duplication module described above, RNA-seq libraries may have highly represented Kmers that are derived from highly expressed sequences. The plot given below highlights this fact. The k-mer content being flagged as Failed is not an issue\n",
    "\n",
    "![KMC](RNA-seq/QC-plots/KC.png \"K-mer content\")"
   ]
  },
  {
   "cell_type": "markdown",
   "metadata": {},
   "source": [
    "# Mapping to the genome\n",
    "We will use STAR to map to the genome. STAR also needs a database with the human genome and gene annotation, we will be using hg19."
   ]
  },
  {
   "cell_type": "code",
   "execution_count": 18,
   "metadata": {},
   "outputs": [
    {
     "name": "stdout",
     "output_type": "stream",
     "text": [
      "Nov 13 14:30:47 ..... started STAR run\n",
      "Nov 13 14:30:47 ..... loading genome\n",
      "Nov 13 14:31:14 ..... started mapping\n",
      "Nov 13 14:37:47 ..... finished successfully\n",
      "Nov 13 14:37:48 ..... started STAR run\n",
      "Nov 13 14:37:48 ..... loading genome\n",
      "Nov 13 14:38:06 ..... started mapping\n",
      "Nov 13 14:43:51 ..... finished successfully\n",
      "Nov 13 14:43:52 ..... started STAR run\n",
      "Nov 13 14:43:52 ..... loading genome\n",
      "Nov 13 14:44:09 ..... started mapping\n",
      "Nov 13 14:49:32 ..... finished successfully\n",
      "Nov 13 14:49:32 ..... started STAR run\n",
      "Nov 13 14:49:32 ..... loading genome\n",
      "Nov 13 14:49:50 ..... started mapping\n",
      "Nov 13 14:56:33 ..... finished successfully\n"
     ]
    }
   ],
   "source": [
    "STAR --genomeDir /mnt/nfs/mfiers/STAR/hg19_star_db \\\n",
    "     --genomeLoad NoSharedMemory \\\n",
    "     --runThreadN 2 \\\n",
    "     --readFilesIn SRR9908384_1.fastq \\\n",
    "     --outFileNamePrefix YT1.\n",
    "\n",
    "STAR --genomeDir /mnt/nfs/mfiers/STAR/hg19_star_db \\\n",
    "     --genomeLoad NoSharedMemory \\\n",
    "     --runThreadN 2 \\\n",
    "     --readFilesIn SRR9908385_1.fastq \\\n",
    "     --outFileNamePrefix YT2.\n",
    "     \n",
    "STAR --genomeDir /mnt/nfs/mfiers/STAR/hg19_star_db \\\n",
    "     --genomeLoad NoSharedMemory \\\n",
    "     --runThreadN 2 \\\n",
    "     --readFilesIn SRR9908386_1.fastq \\\n",
    "     --outFileNamePrefix YS1.\n",
    "     \n",
    "STAR --genomeDir /mnt/nfs/mfiers/STAR/hg19_star_db \\\n",
    "     --genomeLoad NoSharedMemory \\\n",
    "     --runThreadN 2 \\\n",
    "     --readFilesIn SRR9908387_1.fastq \\\n",
    "     --outFileNamePrefix YS2."
   ]
  },
  {
   "cell_type": "markdown",
   "metadata": {},
   "source": [
    "To be able to quickly access the data we must sort the SAM file and convert it to a BAM file. The last step is to create an index for quick access.\n",
    "\n",
    "We use **samtools** to do this. The first step sorts and outputs bam:"
   ]
  },
  {
   "cell_type": "code",
   "execution_count": 22,
   "metadata": {
    "scrolled": true
   },
   "outputs": [
    {
     "name": "stdout",
     "output_type": "stream",
     "text": [
      "[bam_sort_core] merging from 9 files and 1 in-memory blocks...\n",
      "[bam_sort_core] merging from 8 files and 1 in-memory blocks...\n",
      "[bam_sort_core] merging from 7 files and 1 in-memory blocks...\n",
      "[bam_sort_core] merging from 9 files and 1 in-memory blocks...\n"
     ]
    }
   ],
   "source": [
    "samtools sort -o YT1.bam YT1.Aligned.out.sam\n",
    "samtools sort -o YT2.bam YT2.Aligned.out.sam\n",
    "samtools sort -o YS1.bam YS1.Aligned.out.sam\n",
    "samtools sort -o YS2.bam YS2.Aligned.out.sam"
   ]
  },
  {
   "cell_type": "markdown",
   "metadata": {},
   "source": [
    "Use samtools to generate an index:"
   ]
  },
  {
   "cell_type": "code",
   "execution_count": 23,
   "metadata": {},
   "outputs": [],
   "source": [
    "samtools index YT1.bam\n",
    "samtools index YT2.bam\n",
    "samtools index YS1.bam\n",
    "samtools index YS2.bam"
   ]
  },
  {
   "cell_type": "markdown",
   "metadata": {},
   "source": [
    "With samtools idxstats we can see how many reads map to each chromosome"
   ]
  },
  {
   "cell_type": "code",
   "execution_count": 26,
   "metadata": {},
   "outputs": [
    {
     "name": "stdout",
     "output_type": "stream",
     "text": [
      "chrM\t16571\t931723\t0\n",
      "chr1\t249250621\t4147308\t0\n",
      "chr2\t243199373\t2927265\t0\n",
      "chr3\t198022430\t1847308\t0\n",
      "chr4\t191154276\t1214587\t0\n",
      "chr5\t180915260\t1987579\t0\n",
      "chr6\t171115067\t2258192\t0\n",
      "chr7\t159138663\t1950961\t0\n",
      "chr8\t146364022\t1123584\t0\n",
      "chr9\t141213431\t1636851\t0\n",
      "chr10\t135534747\t1172177\t0\n",
      "chr11\t135006516\t1925142\t0\n",
      "chr12\t133851895\t2601630\t0\n",
      "chr13\t115169878\t645595\t0\n",
      "chr14\t107349540\t1057458\t0\n",
      "chr15\t102531392\t1405627\t0\n",
      "chr16\t90354753\t1724400\t0\n",
      "chr17\t81195210\t2789356\t0\n",
      "chr18\t78077248\t1151075\t0\n",
      "chr19\t59128983\t2739025\t0\n",
      "chr20\t63025520\t878371\t0\n",
      "chr21\t48129895\t441500\t0\n",
      "chr22\t51304566\t834969\t0\n",
      "chrX\t155270560\t1336723\t0\n",
      "chrY\t59373566\t77887\t0\n",
      "*\t0\t0\t0\n"
     ]
    }
   ],
   "source": [
    "samtools idxstats YT1.bam"
   ]
  },
  {
   "cell_type": "markdown",
   "metadata": {},
   "source": [
    "Running samtools flagstat tells us what the distribution of mapping flags (column 2 in the sam/bam file) is:"
   ]
  },
  {
   "cell_type": "code",
   "execution_count": 28,
   "metadata": {},
   "outputs": [
    {
     "name": "stdout",
     "output_type": "stream",
     "text": [
      "40806293 + 0 in total (QC-passed reads + QC-failed reads)\n",
      "8213107 + 0 secondary\n",
      "0 + 0 supplementary\n",
      "0 + 0 duplicates\n",
      "40806293 + 0 mapped (100.00% : N/A)\n",
      "0 + 0 paired in sequencing\n",
      "0 + 0 read1\n",
      "0 + 0 read2\n",
      "0 + 0 properly paired (N/A : N/A)\n",
      "0 + 0 with itself and mate mapped\n",
      "0 + 0 singletons (N/A : N/A)\n",
      "0 + 0 with mate mapped to a different chr\n",
      "0 + 0 with mate mapped to a different chr (mapQ>=5)\n"
     ]
    }
   ],
   "source": [
    "samtools flagstat YT1.bam"
   ]
  },
  {
   "cell_type": "markdown",
   "metadata": {},
   "source": [
    "# Converting Reads to Gene Counts\n",
    "First we make a symbolic link to the annotation file"
   ]
  },
  {
   "cell_type": "code",
   "execution_count": 3,
   "metadata": {},
   "outputs": [],
   "source": [
    "ln -sf /mnt/storage/data/RNA-seq/gencode.v19.nopseudo.plus.sort.gtf ."
   ]
  },
  {
   "cell_type": "markdown",
   "metadata": {},
   "source": [
    "Then we run `featureCounts` on each of the BAM files."
   ]
  },
  {
   "cell_type": "code",
   "execution_count": 30,
   "metadata": {},
   "outputs": [
    {
     "name": "stdout",
     "output_type": "stream",
     "text": [
      "\n",
      "       \u001b[44;37m ========== \u001b[0m\u001b[36m    _____ _    _ ____  _____  ______          _____  \n",
      "       \u001b[44;37m =====      \u001b[0m\u001b[36m   / ____| |  | |  _ \\|  __ \\|  ____|   /\\   |  __ \\ \n",
      "       \u001b[44;37m   =====    \u001b[0m\u001b[36m  | (___ | |  | | |_) | |__) | |__     /  \\  | |  | |\n",
      "       \u001b[44;37m     ====   \u001b[0m\u001b[36m   \\___ \\| |  | |  _ <|  _  /|  __|   / /\\ \\ | |  | |\n",
      "       \u001b[44;37m       ==== \u001b[0m\u001b[36m   ____) | |__| | |_) | | \\ \\| |____ / ____ \\| |__| |\n",
      "       \u001b[44;37m ========== \u001b[0m\u001b[36m  |_____/ \\____/|____/|_|  \\_\\______/_/    \\_\\_____/\u001b[0m\n",
      "\t  v1.6.0\n",
      "\n",
      "//==========================\u001b[36m featureCounts setting \u001b[0m===========================\\\\\n",
      "||  \u001b[0m                                                                          ||\n",
      "||             Input files : \u001b[36m4 BAM files  \u001b[0m \u001b[0m                                   ||\n",
      "||                           \u001b[32mS\u001b[36m YT1.bam\u001b[0m \u001b[0m                                       ||\n",
      "||                           \u001b[32mS\u001b[36m YT2.bam\u001b[0m \u001b[0m                                       ||\n",
      "||                           \u001b[32mS\u001b[36m YS1.bam\u001b[0m \u001b[0m                                       ||\n",
      "||                           \u001b[32mS\u001b[36m YS2.bam\u001b[0m \u001b[0m                                       ||\n",
      "||  \u001b[0m                                                                          ||\n",
      "||             Output file : \u001b[36mall.counts\u001b[0m \u001b[0m                                      ||\n",
      "||                 Summary : \u001b[36mall.counts.summary\u001b[0m \u001b[0m                              ||\n",
      "||              Annotation : \u001b[36m/mnt/nfs/data/RNA-seq/gencode.v19.nopseudo.p\u001b[0m ...\u001b[0m \u001b[0m||\n",
      "||      Dir for temp files : \u001b[36m./\u001b[0m \u001b[0m                                              ||\n",
      "||  \u001b[0m                                                                          ||\n",
      "||                 Threads : \u001b[36m1\u001b[0m \u001b[0m                                               ||\n",
      "||                   Level : \u001b[36mmeta-feature level\u001b[0m \u001b[0m                              ||\n",
      "||              Paired-end : \u001b[36mno\u001b[0m \u001b[0m                                              ||\n",
      "||         Strand specific : \u001b[36mno\u001b[0m \u001b[0m                                              ||\n",
      "||      Multimapping reads : \u001b[36mnot counted\u001b[0m \u001b[0m                                     ||\n",
      "|| Multi-overlapping reads : \u001b[36mnot counted\u001b[0m \u001b[0m                                     ||\n",
      "||   Min overlapping bases : \u001b[36m1\u001b[0m \u001b[0m                                               ||\n",
      "||  \u001b[0m                                                                          ||\n",
      "\\\\=====================\u001b[36m http://subread.sourceforge.net/ \u001b[0m======================//\n",
      "\n",
      "//=================================\u001b[36m Running \u001b[0m==================================\\\\\n",
      "||  \u001b[0m                                                                          ||\n",
      "|| Load annotation file /mnt/nfs/data/RNA-seq/gencode.v19.nopseudo.plus.s\u001b[0m ... \u001b[0m||\n",
      "||    Features : \u001b[36m1156385\u001b[0m \u001b[0m                                                     ||\n",
      "||    Meta-features : \u001b[36m41863\u001b[0m \u001b[0m                                                  ||\n",
      "||    Chromosomes/contigs : \u001b[36m25\u001b[0m \u001b[0m                                               ||\n",
      "||  \u001b[0m                                                                          ||\n",
      "|| Process BAM file YT1.bam... \u001b[0m                                               ||\n",
      "||    Single-end reads are included. \u001b[0m                                         ||\n",
      "||    Assign reads to features... \u001b[0m                                            ||\n",
      "||    Total reads : \u001b[36m40806293\u001b[0m \u001b[0m                                                 ||\n",
      "||    Successfully assigned reads : \u001b[36m25144041 (61.6%)\u001b[0m \u001b[0m                         ||\n",
      "||    Running time : \u001b[36m1.43 minutes\u001b[0m \u001b[0m                                            ||\n",
      "||  \u001b[0m                                                                          ||\n",
      "|| Process BAM file YT2.bam... \u001b[0m                                               ||\n",
      "||    Single-end reads are included. \u001b[0m                                         ||\n",
      "||    Assign reads to features... \u001b[0m                                            ||\n",
      "||    Total reads : \u001b[36m36626091\u001b[0m \u001b[0m                                                 ||\n",
      "||    Successfully assigned reads : \u001b[36m22219846 (60.7%)\u001b[0m \u001b[0m                         ||\n",
      "||    Running time : \u001b[36m0.55 minutes\u001b[0m \u001b[0m                                            ||\n",
      "||  \u001b[0m                                                                          ||\n",
      "|| Process BAM file YS1.bam... \u001b[0m                                               ||\n",
      "||    Single-end reads are included. \u001b[0m                                         ||\n",
      "||    Assign reads to features... \u001b[0m                                            ||\n",
      "||    Total reads : \u001b[36m34151584\u001b[0m \u001b[0m                                                 ||\n",
      "||    Successfully assigned reads : \u001b[36m20976046 (61.4%)\u001b[0m \u001b[0m                         ||\n",
      "||    Running time : \u001b[36m0.50 minutes\u001b[0m \u001b[0m                                            ||\n",
      "||  \u001b[0m                                                                          ||\n",
      "|| Process BAM file YS2.bam... \u001b[0m                                               ||\n",
      "||    Single-end reads are included. \u001b[0m                                         ||\n",
      "||    Assign reads to features... \u001b[0m                                            ||\n",
      "||    Total reads : \u001b[36m41113786\u001b[0m \u001b[0m                                                 ||\n",
      "||    Successfully assigned reads : \u001b[36m25062300 (61.0%)\u001b[0m \u001b[0m                         ||\n",
      "||    Running time : \u001b[36m0.60 minutes\u001b[0m \u001b[0m                                            ||\n",
      "||  \u001b[0m                                                                          ||\n",
      "||                         \u001b[36mRead assignment finished.\u001b[0m \u001b[0m                         ||\n",
      "||  \u001b[0m                                                                          ||\n",
      "|| Summary of counting results can be found in file \"all.counts.summary\" \u001b[0m     ||\n",
      "||  \u001b[0m                                                                          ||\n",
      "\\\\=====================\u001b[36m http://subread.sourceforge.net/ \u001b[0m======================//\n",
      "\n"
     ]
    }
   ],
   "source": [
    "featureCounts \\\n",
    "    -Q 10 \\\n",
    "    -g gene_name \\\n",
    "    -a /mnt/nfs/data/RNA-seq/gencode.v19.nopseudo.plus.sort.gtf \\\n",
    "    -o all.counts \\\n",
    "    YT1.bam YT2.bam YS1.bam YS2.bam"
   ]
  },
  {
   "cell_type": "markdown",
   "metadata": {},
   "source": [
    "There are a number of columns on the gene structure, and a number with the actual counts. We'll separate these for use later:"
   ]
  },
  {
   "cell_type": "code",
   "execution_count": 31,
   "metadata": {},
   "outputs": [],
   "source": [
    "cut -f-6 all.counts > all.genedata.tsv"
   ]
  },
  {
   "cell_type": "code",
   "execution_count": 32,
   "metadata": {},
   "outputs": [],
   "source": [
    "cut -f1,7- all.counts | grep -v '^#' > all.gene.counts"
   ]
  }
 ],
 "metadata": {
  "kernelspec": {
   "display_name": "Bash",
   "language": "bash",
   "name": "bash"
  },
  "language_info": {
   "codemirror_mode": "shell",
   "file_extension": ".sh",
   "mimetype": "text/x-sh",
   "name": "bash"
  }
 },
 "nbformat": 4,
 "nbformat_minor": 2
}
