{
 "cells": [
  {
   "cell_type": "markdown",
   "metadata": {},
   "source": [
    "Chaetomium thermophilum and Aspergillus niger. AN = 10609 sequences. CT = 7164 sequences. BBH = 5340 sequences."
   ]
  },
  {
   "cell_type": "markdown",
   "metadata": {},
   "source": [
    "## Preprocessing \n",
    "Utility functions for processing the BLASTP results file"
   ]
  },
  {
   "cell_type": "code",
   "execution_count": 5,
   "metadata": {},
   "outputs": [],
   "source": [
    "# parse the BLASTP results file to get best hits\n",
    "def parse_blast(blastfile, q_prefix, t_prefix):\n",
    "    best_hits = {}                        # initialise empty dictionary for queries and targets\n",
    "    \n",
    "    with open(blastfile, \"r\") as infile:\n",
    "        looking_for_query = True\n",
    "        \n",
    "        for line in infile:\n",
    "            if looking_for_query:\n",
    "                if line.startswith(\"Query=\"):  \n",
    "                    current_query = line.split()[1]   # assign query protein to 'query'\n",
    "                    looking_for_query = False\n",
    "                    target_count = 0\n",
    "            \n",
    "            else:\n",
    "                if line.startswith(\"Query=\"):         # update query if previous query has no significant hits\n",
    "                    current_query = line.split()[1]\n",
    "                if line.startswith(q_prefix + \"XP\") or line.startswith(t_prefix + \"XP\"):\n",
    "                    if line.startswith(q_prefix + \"XP\") and target_count == 0:\n",
    "                        target_count = 1\n",
    "                    else:\n",
    "                        best_hit = line.split()[0]\n",
    "                        best_hits[current_query] = best_hit\n",
    "                        looking_for_query = True\n",
    "    return best_hits\n",
    "\n",
    "\n",
    "# find paralogs from hits\n",
    "def find_paralogs(hits):\n",
    "    outdict = {}\n",
    "    for query, target in hits.items():\n",
    "        if query[0] == target[0]:\n",
    "            if (not target in outdict) or (outdict[target] != query):\n",
    "                outdict[query] = target\n",
    "    return outdict\n",
    "\n",
    "# find bidirectional paralogs from hits\n",
    "def find_BBH_paralogs(hits):\n",
    "    outdict = {}\n",
    "    for query, target in hits.items():\n",
    "        if target in hits:\n",
    "            if hits[target] == query:\n",
    "                if not target in outdict:\n",
    "                    outdict[query] = target\n",
    "    return outdict\n",
    "\n",
    "\n",
    "# find best bidirectional hits\n",
    "def BBH(hits_1, hits_2):\n",
    "    outdict = {}\n",
    "    for query, target in hits_1.items():\n",
    "        if query[0] != target[0]:\n",
    "            if target in hits_2:\n",
    "                if hits_2[target] == query:\n",
    "                    outdict[query] = target\n",
    "    return outdict\n",
    "                                            "
   ]
  },
  {
   "cell_type": "code",
   "execution_count": 8,
   "metadata": {},
   "outputs": [],
   "source": [
    "# read in files and parse\n",
    "blastfile_AN = \"data/mergedDB_ANquery.txt\"\n",
    "blastfile_CT = \"data/mergedDB_CTquery.txt\"\n",
    "\n",
    "hits_AN = parse_blast(blastfile_AN, \"AN_\", \"CT_\")\n",
    "hits_CT = parse_blast(blastfile_CT, \"CT_\", \"AN_\")"
   ]
  },
  {
   "cell_type": "code",
   "execution_count": 9,
   "metadata": {},
   "outputs": [
    {
     "name": "stdout",
     "output_type": "stream",
     "text": [
      "AN paralogs:  3635\n",
      "AN BBH paralogs:  1253\n",
      "CT paralogs:  937\n",
      "CT paralogs:  159\n"
     ]
    }
   ],
   "source": [
    "# calculate paralogs\n",
    "AN_paralogs = find_paralogs(hits_AN)\n",
    "AN_BBH_paralogs = find_BBH_paralogs(hits_AN)\n",
    "print(\"AN paralogs: \", len(AN_paralogs))\n",
    "print(\"AN BBH paralogs: \", len(AN_BBH_paralogs))\n",
    "\n",
    "CT_paralogs = find_paralogs(hits_CT)\n",
    "CT_BBH_paralogs = find_BBH_paralogs(hits_CT)\n",
    "print(\"CT paralogs: \", len(CT_paralogs))\n",
    "print(\"CT paralogs: \", len(CT_BBH_paralogs))"
   ]
  },
  {
   "cell_type": "code",
   "execution_count": 10,
   "metadata": {},
   "outputs": [
    {
     "name": "stdout",
     "output_type": "stream",
     "text": [
      "Best bidirectional hits:  4879\n"
     ]
    }
   ],
   "source": [
    "# calculate best bidirectional hits\n",
    "BBH = BBH(hits_AN, hits_CT)\n",
    "print(\"Best bidirectional hits: \", len(BBH))"
   ]
  }
 ],
 "metadata": {
  "kernelspec": {
   "display_name": "Python 3",
   "language": "python",
   "name": "python3"
  },
  "language_info": {
   "codemirror_mode": {
    "name": "ipython",
    "version": 3
   },
   "file_extension": ".py",
   "mimetype": "text/x-python",
   "name": "python",
   "nbconvert_exporter": "python",
   "pygments_lexer": "ipython3",
   "version": "3.8.5"
  }
 },
 "nbformat": 4,
 "nbformat_minor": 4
}
